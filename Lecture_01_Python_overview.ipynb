{
  "nbformat": 4,
  "nbformat_minor": 0,
  "metadata": {
    "colab": {
      "provenance": [],
      "authorship_tag": "ABX9TyNf292pNTuPigXLdOz7cc0W",
      "include_colab_link": true
    },
    "kernelspec": {
      "name": "python3",
      "display_name": "Python 3"
    },
    "language_info": {
      "name": "python"
    }
  },
  "cells": [
    {
      "cell_type": "markdown",
      "metadata": {
        "id": "view-in-github",
        "colab_type": "text"
      },
      "source": [
        "<a href=\"https://colab.research.google.com/github/BurhanAli232/Python_Afwera/blob/main/Lecture_01_Python_overview.ipynb\" target=\"_parent\"><img src=\"https://colab.research.google.com/assets/colab-badge.svg\" alt=\"Open In Colab\"/></a>"
      ]
    },
    {
      "cell_type": "markdown",
      "source": [
        "# what is the python\n",
        "- It is easy to use\n",
        "- It is an versatile,readability programming language with an active community\n",
        "    - Versatile mean ability to adopt the,be used in different way, or multiple function.\n",
        "- It is an open source language\n",
        "- It is an high level language\n",
        "- It is use in different feild lie web develpment,Data Science,Artificial Intelligence,MAchine larning,Automation also scientific computing"
      ],
      "metadata": {
        "id": "ehaY_Q0Xjy1S"
      }
    },
    {
      "cell_type": "markdown",
      "source": [
        "# Why we learn Python\n",
        "- Python is one of the most powerful,begginer friendly and the versatile programming language therefore most of the people recoomend the python language\n",
        "- Python is just like a english words\n",
        "- Python has large community\n",
        "- Python is a future proof language beacuse it play a important role in AI,ML,DL\n",
        "- it is one of the top language\n",
        "- python open a multiple door in industry like AI,ML,DL"
      ],
      "metadata": {
        "id": "-1BXHYtTmRdf"
      }
    },
    {
      "cell_type": "markdown",
      "source": [
        "# some Uses of python\n",
        "- *Web development:* Framework like Django and Flask\n",
        "- *Data Science & Machine Learning*: Libararies like skiit-learn,NUmpy,Pandas\n",
        "- *Automation & Scrapting*: Automation task using script and bots\n",
        "- *Cybersecurity & ethical hacking*: use for penetration testing and the security tool\n",
        "- *Game develpment*: libabrary like pygame\n",
        "- *Internet of things(IOT)*: work with deveice like Raspberry Pi"
      ],
      "metadata": {
        "id": "PYM97ePOvk7u"
      }
    }
  ]
}