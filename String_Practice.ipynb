{
  "nbformat": 4,
  "nbformat_minor": 0,
  "metadata": {
    "colab": {
      "provenance": []
    },
    "kernelspec": {
      "name": "python3",
      "display_name": "Python 3"
    },
    "language_info": {
      "name": "python"
    }
  },
  "cells": [
    {
      "cell_type": "markdown",
      "source": [
        "# Python_Strings\n",
        "- Here all python string function avaibile"
      ],
      "metadata": {
        "id": "Kf1JHceQP0Dp"
      }
    },
    {
      "cell_type": "markdown",
      "source": [
        "## 1-Capitalize()\n",
        "- This Capitaalize() method returns a string where the first character is upper case,and the rest is lower case\n",
        "- The syntax is:string.capitalize()"
      ],
      "metadata": {
        "id": "_Dp1eymGQFY_"
      }
    },
    {
      "cell_type": "code",
      "execution_count": null,
      "metadata": {
        "id": "EBfmNk1VLCE0",
        "colab": {
          "base_uri": "https://localhost:8080/"
        },
        "outputId": "1a2f6f8e-4bfa-47bf-df04-154b2d76a962"
      },
      "outputs": [
        {
          "output_type": "stream",
          "name": "stdout",
          "text": [
            "Hello, welcome to python in artificial intelligence today i'll explain the python string\n"
          ]
        }
      ],
      "source": [
        "# Example of capitalize()\n",
        "string1=\"hello, welcome to python in Artificial Intelligence today i'll explain the python string\"\n",
        "print(string1.capitalize())"
      ]
    },
    {
      "cell_type": "code",
      "source": [
        "# another way\n",
        "string1=\"hello\"\n",
        "a=string1\n",
        "print(a.capitalize())"
      ],
      "metadata": {
        "colab": {
          "base_uri": "https://localhost:8080/"
        },
        "id": "7a9cqMvSRTDN",
        "outputId": "335a6679-8289-46a4-bdf0-a7f12252abf4"
      },
      "execution_count": null,
      "outputs": [
        {
          "output_type": "stream",
          "name": "stdout",
          "text": [
            "Hello\n"
          ]
        }
      ]
    },
    {
      "cell_type": "code",
      "source": [
        "# another example\n",
        "string1=\"hello\"\n",
        "print(string1.capitalize())\n",
        "string2=\"36 is my age\"\n",
        "print(string2.capitalize())"
      ],
      "metadata": {
        "colab": {
          "base_uri": "https://localhost:8080/"
        },
        "id": "p3WLuJsPXMfW",
        "outputId": "607744dc-bbe7-481f-96d1-5bdc6e2ba788"
      },
      "execution_count": null,
      "outputs": [
        {
          "output_type": "stream",
          "name": "stdout",
          "text": [
            "Hello\n",
            "36 is my age\n"
          ]
        }
      ]
    },
    {
      "cell_type": "markdown",
      "source": [
        "# 2-Casefold()\n",
        "- The casefold() method returns a string where  all the characters are lower case\n",
        "- This method similar to lower() method but the casefold() method is stronger more aggressive meanings that it will convert more character into lower case and will find more matches when comparing two strings and both are converted using the casefold() method\n",
        "- The basic syntas:casefold()"
      ],
      "metadata": {
        "id": "Xnt5uLSEYYJ3"
      }
    },
    {
      "cell_type": "code",
      "source": [
        "string1=\"WELCOME TO PYTHON IN ARTIFICIAL INTELLIGENCE\"\n",
        "print(string1.casefold())"
      ],
      "metadata": {
        "colab": {
          "base_uri": "https://localhost:8080/"
        },
        "id": "cwTs0n0ZaMqD",
        "outputId": "e2584f79-6b0a-43c5-e7dd-bf73185fb421"
      },
      "execution_count": null,
      "outputs": [
        {
          "output_type": "stream",
          "name": "stdout",
          "text": [
            "welcome to python in artificial intelligence\n"
          ]
        }
      ]
    },
    {
      "cell_type": "markdown",
      "source": [
        "# 3-Center()\n",
        "- The center() method will center align the string using a specified charcter(space is defult) as the fill character.\n",
        "- The basic syntax is:string.center(Length,Character)"
      ],
      "metadata": {
        "id": "TAjfft3Xbc--"
      }
    },
    {
      "cell_type": "code",
      "source": [
        "string1=\"Python\"\n",
        "print(string1.center(20))"
      ],
      "metadata": {
        "colab": {
          "base_uri": "https://localhost:8080/"
        },
        "id": "mJGUHmYscG0k",
        "outputId": "253dcee2-fb9a-4e09-99ad-9882714c563d"
      },
      "execution_count": null,
      "outputs": [
        {
          "output_type": "stream",
          "name": "stdout",
          "text": [
            "       Python       \n"
          ]
        }
      ]
    },
    {
      "cell_type": "code",
      "source": [
        "# Another example where pass the parameter\n",
        "string1=\" python \"\n",
        "print(string1.center(12,\"a\"))"
      ],
      "metadata": {
        "colab": {
          "base_uri": "https://localhost:8080/"
        },
        "id": "O-_qIFp-cbot",
        "outputId": "c5445366-2b16-4e00-fa1f-97fb161b05ca"
      },
      "execution_count": null,
      "outputs": [
        {
          "output_type": "stream",
          "name": "stdout",
          "text": [
            "aa python aa\n"
          ]
        }
      ]
    },
    {
      "cell_type": "markdown",
      "source": [
        "# 4-Count()\n",
        "- The count() method returns the number of times a specified value appears in the string\n",
        "- THe syntax is:string.count(value,start,end)"
      ],
      "metadata": {
        "id": "fXrhsajdbp6N"
      }
    },
    {
      "cell_type": "code",
      "source": [
        "string1=\"I love Pakistan,Pakistan is my country,Pakistan is my motherland Pakistan\"\n",
        "print(string1.count(\"Pakistan\"))"
      ],
      "metadata": {
        "colab": {
          "base_uri": "https://localhost:8080/"
        },
        "id": "6KGe0cCNd8DD",
        "outputId": "232a2fe1-418d-4579-d108-e43fb4d3ff4b"
      },
      "execution_count": null,
      "outputs": [
        {
          "output_type": "stream",
          "name": "stdout",
          "text": [
            "4\n"
          ]
        }
      ]
    },
    {
      "cell_type": "markdown",
      "source": [
        "- **Value**:Requried | a string | the string to value to search for\n",
        "- **start**:Optional | An interger | The position to star the search | Defult is 0\n",
        "- **end**:Optional | An integer | The posotion to end the search | Defult is the end of the string"
      ],
      "metadata": {
        "id": "_hE25-gDeTcs"
      }
    },
    {
      "cell_type": "code",
      "source": [
        "#here check the the i character first 50 charcter\n",
        "print(string1.count(\"i\",0,50))"
      ],
      "metadata": {
        "colab": {
          "base_uri": "https://localhost:8080/"
        },
        "id": "ntrModOpfCC_",
        "outputId": "ee5f43f3-3633-4168-875b-2be4528a214b"
      },
      "execution_count": null,
      "outputs": [
        {
          "output_type": "stream",
          "name": "stdout",
          "text": [
            "5\n"
          ]
        }
      ]
    },
    {
      "cell_type": "markdown",
      "source": [
        "# 5-ecode()\n",
        "- The encode() method encode the string using the specified encoding if no encoding is specified,UTF-8 will be used\n",
        "-The syntax:string:encode(encode=encoding,erros=errors)\n",
        "- **encoding**:Optional | a string specifying the encode to use | Defult is UTF-8\n",
        "- **errors**:Optional | A string specifying the error method | legal value are:\n",
        "    - **'backslashreplace'**:uses a backlash instead of the character that could not be encoded\n",
        "    - **'ignore'**:ignores the characters that cannot be encoded\n",
        "    - **'namereplace'**:replace the character with a text explaining the character\n",
        "    - **'strict'**:replace the character with a questionmark\n",
        "    - **'xmlcharrefreplace'**:replace the character with an xml character\n"
      ],
      "metadata": {
        "id": "Dyu9XE4ThVCx"
      }
    },
    {
      "cell_type": "code",
      "source": [
        "# example\n",
        "string1=\"Welcome to python with Artificial intelligence  Ståle\"\n",
        "print(string1.encode(encoding=\"ascii\",errors=\"backslashreplace\"))"
      ],
      "metadata": {
        "colab": {
          "base_uri": "https://localhost:8080/"
        },
        "id": "SpkaVdC6jkpa",
        "outputId": "a6bbdd81-fcf4-4f2e-e57b-511010d24d07"
      },
      "execution_count": null,
      "outputs": [
        {
          "output_type": "stream",
          "name": "stdout",
          "text": [
            "b'Welcome to python with Artificial intelligence  St\\\\xe5le'\n"
          ]
        }
      ]
    },
    {
      "cell_type": "code",
      "source": [
        "#try with all error type or function\n",
        "print(string1.encode(encoding=\"ascii\",errors=\"ignore\"))"
      ],
      "metadata": {
        "colab": {
          "base_uri": "https://localhost:8080/"
        },
        "id": "FtLEoFAakMqx",
        "outputId": "859b6917-7110-483d-d06c-0db6743e15c5"
      },
      "execution_count": null,
      "outputs": [
        {
          "output_type": "stream",
          "name": "stdout",
          "text": [
            "b'Welcome to python with Artificial intelligence  Stle'\n"
          ]
        }
      ]
    },
    {
      "cell_type": "code",
      "source": [
        "print(string1.encode(encoding=\"ascii\",errors=\"namereplace\"))"
      ],
      "metadata": {
        "colab": {
          "base_uri": "https://localhost:8080/"
        },
        "id": "dHfFxY7Akvxe",
        "outputId": "0800a4b6-21ce-48f2-a129-1375d1e17405"
      },
      "execution_count": null,
      "outputs": [
        {
          "output_type": "stream",
          "name": "stdout",
          "text": [
            "b'Welcome to python with Artificial intelligence  St\\\\N{LATIN SMALL LETTER A WITH RING ABOVE}le'\n"
          ]
        }
      ]
    },
    {
      "cell_type": "code",
      "source": [
        "print(string1.encode(encoding=\"ascii\",errors=\"replace\"))"
      ],
      "metadata": {
        "colab": {
          "base_uri": "https://localhost:8080/"
        },
        "id": "EiSvIlujmP9G",
        "outputId": "1c228ae9-5098-49a5-b701-83c02385cc08"
      },
      "execution_count": null,
      "outputs": [
        {
          "output_type": "stream",
          "name": "stdout",
          "text": [
            "b'Welcome to python with Artificial intelligence  St?le'\n"
          ]
        }
      ]
    },
    {
      "cell_type": "code",
      "source": [
        "print(string1.encode(encoding=\"ascii\",errors=\"xmlcharrefreplace\"))"
      ],
      "metadata": {
        "colab": {
          "base_uri": "https://localhost:8080/"
        },
        "id": "iqModylpmcRP",
        "outputId": "90b1639c-9c34-4e98-fb39-92ec5500f574"
      },
      "execution_count": null,
      "outputs": [
        {
          "output_type": "stream",
          "name": "stdout",
          "text": [
            "b'Welcome to python with Artificial intelligence  St&#229;le'\n"
          ]
        }
      ]
    },
    {
      "cell_type": "markdown",
      "source": [
        "# 6-endswith()\n",
        "- The endswith() method returns True if the string ends with the specified value,otherwise False.\n",
        "- The syntax is:string.endswith(value,start,end)\n",
        "- **value**:Required | The value to chech if the string ends with.The value parameter can also be a tuple then the method returns true if the string end with any tuple value\n",
        "- **start**:Optional | an integer specifying at which position to start the search\n",
        "- **end**:Optional | an integer specifying at which position to end the search"
      ],
      "metadata": {
        "id": "tUGBziF35_uy"
      }
    },
    {
      "cell_type": "code",
      "source": [
        "string1=\"welcome to python with artificial intelligence.\"\n",
        "print(string1.endswith(\".\"))"
      ],
      "metadata": {
        "colab": {
          "base_uri": "https://localhost:8080/"
        },
        "id": "5GyynCEU7Xl9",
        "outputId": "8e4db387-9e65-4861-8895-cef7b37cdace"
      },
      "execution_count": null,
      "outputs": [
        {
          "output_type": "stream",
          "name": "stdout",
          "text": [
            "True\n"
          ]
        }
      ]
    },
    {
      "cell_type": "code",
      "source": [
        "string1=\"welcome to python with artificial intelligence\"\n",
        "print(string1.endswith(\".\"))"
      ],
      "metadata": {
        "colab": {
          "base_uri": "https://localhost:8080/"
        },
        "id": "6nn_VRoc8BV_",
        "outputId": "39cdd1ed-a38e-48db-a564-8e286c5d829e"
      },
      "execution_count": null,
      "outputs": [
        {
          "output_type": "stream",
          "name": "stdout",
          "text": [
            "False\n"
          ]
        }
      ]
    },
    {
      "cell_type": "code",
      "source": [
        "string1=\"welcome to python with artificial intelligence\"\n",
        "print(string1.endswith(\"intelligence\",5,50))"
      ],
      "metadata": {
        "colab": {
          "base_uri": "https://localhost:8080/"
        },
        "id": "4LlmbCXn8Z3Z",
        "outputId": "54a07e25-37f7-4b6f-c5e6-28bd74e2be38"
      },
      "execution_count": null,
      "outputs": [
        {
          "output_type": "stream",
          "name": "stdout",
          "text": [
            "True\n"
          ]
        }
      ]
    },
    {
      "cell_type": "code",
      "source": [
        "string1=\"welcome to python with artificial intelligence.\"\n",
        "print(string1.endswith((\"welcome.\",\"intelligence.\")))"
      ],
      "metadata": {
        "colab": {
          "base_uri": "https://localhost:8080/"
        },
        "id": "U5mxq9RW8-ZF",
        "outputId": "18fc636b-e96c-4e18-ff8b-c0bd9e70a18f"
      },
      "execution_count": null,
      "outputs": [
        {
          "output_type": "stream",
          "name": "stdout",
          "text": [
            "True\n"
          ]
        }
      ]
    },
    {
      "cell_type": "code",
      "source": [
        "txt = \"Hello, welcome to my castle.\"\n",
        "\n",
        "x = txt.endswith((\"world.\", \"castle.\"))\n",
        "\n",
        "print(x)"
      ],
      "metadata": {
        "colab": {
          "base_uri": "https://localhost:8080/"
        },
        "id": "XOK_j_z49h0g",
        "outputId": "ab89dff3-59ea-4e52-8af9-dc4fb54d6271"
      },
      "execution_count": null,
      "outputs": [
        {
          "output_type": "stream",
          "name": "stdout",
          "text": [
            "True\n"
          ]
        }
      ]
    },
    {
      "cell_type": "markdown",
      "source": [
        "# 7-expandtabs()\n",
        "- The expandtabs() method sets the tab size to the specified number of whitespace\n",
        "- the syntax is:string.expandtabs(tabsize)\n",
        "- **tabsize**:Optional | a number specifying the tabsize | defult is 8"
      ],
      "metadata": {
        "id": "PfB9OqeZ-B1n"
      }
    },
    {
      "cell_type": "code",
      "source": [
        "string1=\"welcome\\tto\\tpython\\twith\\tartificial\\tintelligence\"\n",
        "print(string1.expandtabs(1))"
      ],
      "metadata": {
        "colab": {
          "base_uri": "https://localhost:8080/"
        },
        "id": "FrkGGf_3-v2x",
        "outputId": "31750f5b-5f20-4b05-e96d-37a93a42b09f"
      },
      "execution_count": null,
      "outputs": [
        {
          "output_type": "stream",
          "name": "stdout",
          "text": [
            "welcome to python with artificial intelligence\n"
          ]
        }
      ]
    },
    {
      "cell_type": "code",
      "source": [
        "print(string1)\n",
        "print(\"2\")\n",
        "print(string1.expandtabs(1))\n",
        "print(\"3\")\n",
        "print(string1.expandtabs(2))\n",
        "print(\"4\")\n",
        "print(string1.expandtabs(4))\n",
        "print(\"5\")\n",
        "print(string1.expandtabs(8))"
      ],
      "metadata": {
        "colab": {
          "base_uri": "https://localhost:8080/"
        },
        "id": "vacdnFXl_GWm",
        "outputId": "d32c2f70-239d-443b-8245-2762ba01c242"
      },
      "execution_count": null,
      "outputs": [
        {
          "output_type": "stream",
          "name": "stdout",
          "text": [
            "welcome\tto\tpython\twith\tartificial\tintelligence\n",
            "2\n",
            "welcome to python with artificial intelligence\n",
            "3\n",
            "welcome to  python  with  artificial  intelligence\n",
            "4\n",
            "welcome to  python  with    artificial  intelligence\n",
            "5\n",
            "welcome to      python  with    artificial      intelligence\n"
          ]
        }
      ]
    },
    {
      "cell_type": "markdown",
      "source": [
        "# 8-find()\n",
        "- The find() method finds the first occurrence of the specifird value\n",
        "- The find() method return -1 if the value is not found\n",
        "- The find() method is almost the same as the index() method the only difference is that the index() method raises an exception if the value is not found\n",
        "- **value**: Requried | The value to search for\n",
        "- **Start**: Optional | where to start the search | Default is 0\n",
        "- **end**: Optional | where to end the search | Default is at the end of string\n"
      ],
      "metadata": {
        "id": "R6BywcFCAFCV"
      }
    },
    {
      "cell_type": "code",
      "source": [
        "string1=\"Welcome to Python in AI\"\n",
        "print(string1.find(\"AI\"))"
      ],
      "metadata": {
        "colab": {
          "base_uri": "https://localhost:8080/"
        },
        "id": "w3plvJ1-BB49",
        "outputId": "1704b6ce-038d-42b5-dff6-8bead0d1c732"
      },
      "execution_count": null,
      "outputs": [
        {
          "output_type": "stream",
          "name": "stdout",
          "text": [
            "21\n"
          ]
        }
      ]
    },
    {
      "cell_type": "code",
      "source": [
        "string1=\"welcome to python in AI\"\n",
        "print(string1.find(\"e\",5,10))"
      ],
      "metadata": {
        "colab": {
          "base_uri": "https://localhost:8080/"
        },
        "id": "snLceASGCQ31",
        "outputId": "7b42972a-af12-422a-b0d6-2b797f459b9d"
      },
      "execution_count": null,
      "outputs": [
        {
          "output_type": "stream",
          "name": "stdout",
          "text": [
            "6\n"
          ]
        }
      ]
    },
    {
      "cell_type": "code",
      "source": [
        "string1=\"welcome to python in AI\"\n",
        "print(string1)\n",
        "print(string1.find(\"in\"))\n",
        "print(string1.index(\"in\"))"
      ],
      "metadata": {
        "colab": {
          "base_uri": "https://localhost:8080/"
        },
        "id": "BwG9wWorCt5n",
        "outputId": "a9599c3b-b4d0-4002-db96-274f0d690958"
      },
      "execution_count": null,
      "outputs": [
        {
          "output_type": "stream",
          "name": "stdout",
          "text": [
            "welcome to python in AI\n",
            "18\n",
            "18\n"
          ]
        }
      ]
    },
    {
      "cell_type": "markdown",
      "source": [
        "# 10-format()\n",
        "- The format() method formates the specified value(s) and insert them inside the string placeholder\n",
        "- The placeholder is defined using the curly bracket{}\n",
        "- The format() method returns the formatted string\n",
        "The basic syntax:string.formate(value1,value2...)\n",
        "  - **value1,value2...*: requried | one or more value that should be formatted and inserted in the string\n",
        "  - The value are either a list of value separated by commas,key=value or a combination of both\n",
        "  - The values can be of any data type"
      ],
      "metadata": {
        "id": "B7CkPNbgDyen"
      }
    },
    {
      "cell_type": "code",
      "source": [
        "string1=\"only for you in {price} pkr\"\n",
        "print(string1.format(price=39.99))"
      ],
      "metadata": {
        "colab": {
          "base_uri": "https://localhost:8080/"
        },
        "id": "BZAINdvMFXtP",
        "outputId": "485fdd9c-4954-4e7c-df8d-96bd74c5dd5d"
      },
      "execution_count": null,
      "outputs": [
        {
          "output_type": "stream",
          "name": "stdout",
          "text": [
            "only for you in 39.99 pkr\n"
          ]
        }
      ]
    },
    {
      "cell_type": "code",
      "source": [
        "# now string1 = s1\n",
        "s1=\"my age is{age},and my {name}\".format(age=21,name=\"Burhan\")\n",
        "s1"
      ],
      "metadata": {
        "colab": {
          "base_uri": "https://localhost:8080/",
          "height": 35
        },
        "id": "mPw75_tTGSk7",
        "outputId": "4c5982c1-35a5-484c-8bfc-04346b2a089e"
      },
      "execution_count": null,
      "outputs": [
        {
          "output_type": "execute_result",
          "data": {
            "text/plain": [
              "'my age is21,and my Burhan'"
            ],
            "application/vnd.google.colaboratory.intrinsic+json": {
              "type": "string"
            }
          },
          "metadata": {},
          "execution_count": 13
        }
      ]
    },
    {
      "cell_type": "markdown",
      "source": [
        "### Now i'll discuss the formate type\n",
        "- Incide the placeholders you can add a formatting type to formate the result"
      ],
      "metadata": {
        "id": "uIOjErXlG6Em"
      }
    },
    {
      "cell_type": "markdown",
      "source": [
        "-\n",
        "  - 1 :<\n",
        "  - Left aligns the result(within the available space)"
      ],
      "metadata": {
        "id": "aQoatK5SHPq4"
      }
    },
    {
      "cell_type": "code",
      "source": [
        "s1=\"my name is {:<8} from Pakistan\"\n",
        "print(s1.format(\"Burhan\"))"
      ],
      "metadata": {
        "colab": {
          "base_uri": "https://localhost:8080/"
        },
        "id": "cIJ_VupZHKdp",
        "outputId": "f1b81b6f-ad88-4c65-e870-ed78764cfbd8"
      },
      "execution_count": null,
      "outputs": [
        {
          "output_type": "stream",
          "name": "stdout",
          "text": [
            "my name is Burhan   from Pakistan\n"
          ]
        }
      ]
    },
    {
      "cell_type": "code",
      "source": [
        "s1 = \"We have {:<15} friend.\"\n",
        "print(s1.format(\"Burhan\"))\n"
      ],
      "metadata": {
        "colab": {
          "base_uri": "https://localhost:8080/"
        },
        "id": "nDruW6M2IO6r",
        "outputId": "6da82ba8-34f2-470f-d3f6-7a05d0796f32"
      },
      "execution_count": null,
      "outputs": [
        {
          "output_type": "stream",
          "name": "stdout",
          "text": [
            "We have Burhan          friend.\n"
          ]
        }
      ]
    },
    {
      "cell_type": "code",
      "source": [
        "# now i try with minimum\n",
        "s1=\"my name is {:<5} from Pakistan\"\n",
        "print(s1.format(\"Burhan\")) # its not work beacuse 5 is already less than the string\n",
        "\n",
        "\n",
        "# check now i change the string size then it's worked\n",
        "print(s1.format(\"Ali\"))# here you can see its work"
      ],
      "metadata": {
        "colab": {
          "base_uri": "https://localhost:8080/"
        },
        "id": "OQcSs4BiKCG2",
        "outputId": "0566e5ce-fbda-425d-87cd-8a720877784f"
      },
      "execution_count": null,
      "outputs": [
        {
          "output_type": "stream",
          "name": "stdout",
          "text": [
            "my name is Burhan from Pakistan\n",
            "my name is Ali   from Pakistan\n"
          ]
        }
      ]
    },
    {
      "cell_type": "markdown",
      "source": [
        "-\n",
        "  - 2 :>\n",
        "  - Right aligns the result(within the available space)"
      ],
      "metadata": {
        "id": "P1vNy-a2LQDE"
      }
    },
    {
      "cell_type": "code",
      "source": [
        "# add the string length in which i give the value .ex=8 so 6 digit use Burhan and 2 for reserve space\n",
        "# its same with privious\n",
        "s1=\"my name is {:>8} from Pakistan\"\n",
        "print(s1.format(\"Burhan\"))\n",
        "\n",
        "# now try with minimum\n",
        "s1=\"my name is {:>5} from Pakistan\"\n",
        "print(s1.format(\"Burhan\"))\n",
        "\n",
        "# now worked\n",
        "print(s1.format(\"Ali\"))"
      ],
      "metadata": {
        "colab": {
          "base_uri": "https://localhost:8080/"
        },
        "id": "h0ZF5-jwLVss",
        "outputId": "d4f83af6-4c63-4951-ba89-41fbe5f2af6b"
      },
      "execution_count": null,
      "outputs": [
        {
          "output_type": "stream",
          "name": "stdout",
          "text": [
            "my name is   Burhan from Pakistan\n",
            "my name is Burhan from Pakistan\n",
            "my name is   Ali from Pakistan\n"
          ]
        }
      ]
    },
    {
      "cell_type": "markdown",
      "source": [
        "-\n",
        "  - 3 :^\n",
        "  - center aligns the result(within the available space)"
      ],
      "metadata": {
        "id": "MJgYpdz3Mh9f"
      }
    },
    {
      "cell_type": "code",
      "source": [
        "# now we use for center\n",
        "s1=\"my name is {:^8} from Pakistan\"\n",
        "print(s1.format(\"Burhan\")) # here 6 digit for string 1 space add in left side and 1 add right side\n",
        "\n",
        "s1=\"my name is {:^7} from Pakistan\"\n",
        "print(s1.format(\"Burhan\"))  #Here 6 digit for string and 1 space add one side and second side not add any space\n"
      ],
      "metadata": {
        "colab": {
          "base_uri": "https://localhost:8080/"
        },
        "id": "0E915y-XM2rK",
        "outputId": "c2ee6ea0-3170-425b-ad9f-ff51965db83a"
      },
      "execution_count": null,
      "outputs": [
        {
          "output_type": "stream",
          "name": "stdout",
          "text": [
            "my name is  Burhan  from Pakistan\n",
            "my name is Burhan  from Pakistan\n"
          ]
        }
      ]
    },
    {
      "cell_type": "markdown",
      "source": [
        "-\n",
        "  - 4 :=\n",
        "  - Place the sign to the left most position"
      ],
      "metadata": {
        "id": "n0LNGxJoN_8Y"
      }
    },
    {
      "cell_type": "code",
      "source": [
        "s1=\"my age is {:=5} .\"\n",
        "print(s1.format(21)) #here 2 digit use for string and 3 use for space"
      ],
      "metadata": {
        "colab": {
          "base_uri": "https://localhost:8080/"
        },
        "id": "Waf6BYF0OP9y",
        "outputId": "b0de42ad-2042-45d6-c4f7-bee02be3acbc"
      },
      "execution_count": null,
      "outputs": [
        {
          "output_type": "stream",
          "name": "stdout",
          "text": [
            "my age is    21 .\n"
          ]
        }
      ]
    },
    {
      "cell_type": "markdown",
      "source": [
        "-\n",
        "  - 5 :+\n",
        "  - Use a plus sign to indicate if the result is positive or negitive"
      ],
      "metadata": {
        "id": "ghx0MQ6xOv0A"
      }
    },
    {
      "cell_type": "code",
      "source": [
        "s1=\"Today the temprature between {:+} to {:+} degree in Pakistan\"\n",
        "print(s1.format(-1,7))"
      ],
      "metadata": {
        "colab": {
          "base_uri": "https://localhost:8080/"
        },
        "id": "3NC4-pDuTENT",
        "outputId": "6f03055c-6abc-424b-cf44-3505a927bde2"
      },
      "execution_count": null,
      "outputs": [
        {
          "output_type": "stream",
          "name": "stdout",
          "text": [
            "Today the temprature between -1 to +7 degree in Pakistan\n"
          ]
        }
      ]
    },
    {
      "cell_type": "markdown",
      "source": [
        "-\n",
        "  - 6 :-\n",
        "  - use for minus sign for negative value"
      ],
      "metadata": {
        "id": "POI81qv-TrOq"
      }
    },
    {
      "cell_type": "code",
      "source": [
        "s1=\"Today temprature {:-} in Pakistan\"\n",
        "print(s1.format(-1))"
      ],
      "metadata": {
        "colab": {
          "base_uri": "https://localhost:8080/"
        },
        "id": "fnyvumTCT34j",
        "outputId": "04fe0fbf-cc9f-4e05-8962-13f6d8caac50"
      },
      "execution_count": null,
      "outputs": [
        {
          "output_type": "stream",
          "name": "stdout",
          "text": [
            "Today temprature -1 in Pakistan\n"
          ]
        }
      ]
    },
    {
      "cell_type": "markdown",
      "source": [
        "-\n",
        "  - 7 :\n",
        "  - Use a space to insert an extra space before positive number(and a minus sign before negative number)"
      ],
      "metadata": {
        "id": "6_MO8b_xUoUU"
      }
    },
    {
      "cell_type": "code",
      "source": [
        "s1=\"today temprature is {: } to {: } in Pakistan\"\n",
        "print(s1.format(-2,5)) # here you see just increse the space for plus value note nagitive value"
      ],
      "metadata": {
        "colab": {
          "base_uri": "https://localhost:8080/"
        },
        "id": "vS84mKlhVEM-",
        "outputId": "9ce590dd-835a-423d-af90-9a3dfe38c40e"
      },
      "execution_count": null,
      "outputs": [
        {
          "output_type": "stream",
          "name": "stdout",
          "text": [
            "today temprature is -2 to  5 in Pakistan\n"
          ]
        }
      ]
    },
    {
      "cell_type": "code",
      "source": [
        "s1=\"Today the temprature is {} to {} in Pakistan\"\n",
        "print(s1.format(-1,7)) # it's work by this way but when i increase the space in bracket display the error"
      ],
      "metadata": {
        "colab": {
          "base_uri": "https://localhost:8080/"
        },
        "id": "U7-1b2ZQXFDo",
        "outputId": "ab446791-68f7-4a74-faa2-e3873ef0bfc3"
      },
      "execution_count": null,
      "outputs": [
        {
          "output_type": "stream",
          "name": "stdout",
          "text": [
            "Today the temprature is -1 to 7 in Pakistan\n"
          ]
        }
      ]
    },
    {
      "cell_type": "code",
      "source": [
        "s1=\"Today temprature is {:>3} to {:>3} in Pakistan\"\n",
        "print(s1.format(-1,7)) # Or u can choose by this way"
      ],
      "metadata": {
        "colab": {
          "base_uri": "https://localhost:8080/"
        },
        "id": "vEWUjdoOXe4m",
        "outputId": "7945b57f-919b-49c6-de63-535ff80071d4"
      },
      "execution_count": null,
      "outputs": [
        {
          "output_type": "stream",
          "name": "stdout",
          "text": [
            "Today temprature is  -1 to   7 in Pakistan\n"
          ]
        }
      ]
    },
    {
      "cell_type": "markdown",
      "source": [
        "-\n",
        "  - 8 :,\n",
        "  - Use a comma as a thousand separator"
      ],
      "metadata": {
        "id": "Im_3z-piX673"
      }
    },
    {
      "cell_type": "code",
      "source": [
        "s1=\"the GDP of Pakistan is {:,}\"\n",
        "print(s1.format(900000000000))"
      ],
      "metadata": {
        "colab": {
          "base_uri": "https://localhost:8080/"
        },
        "id": "PqpIxadEYIeU",
        "outputId": "4dbc6a3e-45b8-4c50-c829-03dc5340b685"
      },
      "execution_count": null,
      "outputs": [
        {
          "output_type": "stream",
          "name": "stdout",
          "text": [
            "the GDP of Pakistan is 900,000,000,000\n"
          ]
        }
      ]
    },
    {
      "cell_type": "markdown",
      "source": [
        "-\n",
        "  - 9 :_\n",
        "  - Use a Underscore as a thousand separator"
      ],
      "metadata": {
        "id": "BTH5ZXh7YzxI"
      }
    },
    {
      "cell_type": "code",
      "source": [
        "s1=\"The GDP of Pakistan is {:_}\"\n",
        "print(s1.format(900900000))"
      ],
      "metadata": {
        "colab": {
          "base_uri": "https://localhost:8080/"
        },
        "id": "ArFpOJrUYzVg",
        "outputId": "73179bd0-d153-43aa-b3f6-564d1f64a296"
      },
      "execution_count": null,
      "outputs": [
        {
          "output_type": "stream",
          "name": "stdout",
          "text": [
            "The GDP of Pakistan is 900_900_000\n"
          ]
        }
      ]
    },
    {
      "cell_type": "markdown",
      "source": [
        "-\n",
        "  - 10 :b\n",
        "  - Binary formate"
      ],
      "metadata": {
        "id": "fka89zHPZPLd"
      }
    },
    {
      "cell_type": "code",
      "source": [
        "# use to write a binary form\n",
        "s1=\"The binary value of {0} is {0:b}\"\n",
        "print(s1.format(10))"
      ],
      "metadata": {
        "colab": {
          "base_uri": "https://localhost:8080/"
        },
        "id": "To9vzEPLZVJB",
        "outputId": "4a48147f-a8cf-4718-8fd6-d817bf3d3625"
      },
      "execution_count": null,
      "outputs": [
        {
          "output_type": "stream",
          "name": "stdout",
          "text": [
            "The binary value of 10 is 1010\n"
          ]
        }
      ]
    },
    {
      "cell_type": "markdown",
      "source": [
        "-\n",
        "  - 11 :c\n",
        "  - Convert the value into the crossponding unicode charcter"
      ],
      "metadata": {
        "id": "qP0rtWajZrBR"
      }
    },
    {
      "cell_type": "code",
      "source": [
        "char_code = 65\n",
        "txt = \"The character for Unicode code {} is {:c}.\"\n",
        "print(txt.format(char_code, char_code))\n"
      ],
      "metadata": {
        "colab": {
          "base_uri": "https://localhost:8080/"
        },
        "id": "XqhFTE0MZ241",
        "outputId": "d3b71db2-e2fc-4b6e-e28b-899e73d26311"
      },
      "execution_count": null,
      "outputs": [
        {
          "output_type": "stream",
          "name": "stdout",
          "text": [
            "The character for Unicode code 65 is A.\n"
          ]
        }
      ]
    },
    {
      "cell_type": "code",
      "source": [
        "c_code=67\n",
        "s1=\"The charcter forunicode {} is {:c}\"\n",
        "print(s1.format(c_code,c_code))"
      ],
      "metadata": {
        "colab": {
          "base_uri": "https://localhost:8080/"
        },
        "id": "SJFBt8V2aOAf",
        "outputId": "b798863e-fa44-42f0-ace8-6afc95d91cb4"
      },
      "execution_count": null,
      "outputs": [
        {
          "output_type": "stream",
          "name": "stdout",
          "text": [
            "The charcter forunicode 67 is C\n"
          ]
        }
      ]
    },
    {
      "cell_type": "markdown",
      "source": [
        "-\n",
        "  - 12 :d\n",
        "  - Decimal formate"
      ],
      "metadata": {
        "id": "jtLdGTOBakl4"
      }
    },
    {
      "cell_type": "code",
      "source": [
        "s1=\"We have the {:d} candy\"\n",
        "print(s1.format(0b1010))"
      ],
      "metadata": {
        "colab": {
          "base_uri": "https://localhost:8080/"
        },
        "id": "uMBMdpCfavpk",
        "outputId": "ac634a89-a546-472e-b8d1-cbf7030dd257"
      },
      "execution_count": null,
      "outputs": [
        {
          "output_type": "stream",
          "name": "stdout",
          "text": [
            "We have the 10 candy\n"
          ]
        }
      ]
    },
    {
      "cell_type": "markdown",
      "source": [
        "-\n",
        "  - 13 :e\n",
        "  - Scientific formate with a lower case e"
      ],
      "metadata": {
        "id": "vNkPVqWJbQBo"
      }
    },
    {
      "cell_type": "code",
      "source": [
        "s1=\"The number is scientific formate{:.2e}\".format(3.14115)\n",
        "s1"
      ],
      "metadata": {
        "colab": {
          "base_uri": "https://localhost:8080/",
          "height": 35
        },
        "id": "wQogkcw0b-CM",
        "outputId": "1157db47-ebb5-40c9-ce69-77cca2fc0262"
      },
      "execution_count": null,
      "outputs": [
        {
          "output_type": "execute_result",
          "data": {
            "text/plain": [
              "'The number is scientific formate3.14e+00'"
            ],
            "application/vnd.google.colaboratory.intrinsic+json": {
              "type": "string"
            }
          },
          "metadata": {},
          "execution_count": 76
        }
      ]
    },
    {
      "cell_type": "markdown",
      "source": [
        "-\n",
        "  - 14 :E\n",
        "  - Scientific formate with a Upper case e"
      ],
      "metadata": {
        "id": "3a2N0rpsdFY3"
      }
    },
    {
      "cell_type": "code",
      "source": [
        "s1=\"The is scientific formate {:.3E}\".format(314156.15143)\n",
        "s1"
      ],
      "metadata": {
        "colab": {
          "base_uri": "https://localhost:8080/",
          "height": 35
        },
        "id": "S64mTaFUdRRJ",
        "outputId": "7315c603-6680-4438-bf4d-b4812ad4e193"
      },
      "execution_count": null,
      "outputs": [
        {
          "output_type": "execute_result",
          "data": {
            "text/plain": [
              "'The is scientific formate 3.142E+05'"
            ],
            "application/vnd.google.colaboratory.intrinsic+json": {
              "type": "string"
            }
          },
          "metadata": {},
          "execution_count": 84
        }
      ]
    },
    {
      "cell_type": "markdown",
      "source": [
        "-\n",
        "  - 15 :f\n",
        "  - Fix point number format"
      ],
      "metadata": {
        "id": "DtVKZa1FeJdG"
      }
    },
    {
      "cell_type": "code",
      "source": [
        "s1=\"The price is {:f}\".format(45)\n",
        "print(s1)\n",
        "s2=\"The price is {:.3f}\".format(50)\n",
        "s2"
      ],
      "metadata": {
        "colab": {
          "base_uri": "https://localhost:8080/",
          "height": 52
        },
        "id": "jnbsQhBbeRfO",
        "outputId": "4778c607-2422-4035-9fc5-2143c19ddefc"
      },
      "execution_count": null,
      "outputs": [
        {
          "output_type": "stream",
          "name": "stdout",
          "text": [
            "The price is 45.000000\n"
          ]
        },
        {
          "output_type": "execute_result",
          "data": {
            "text/plain": [
              "'The price is 50.000'"
            ],
            "application/vnd.google.colaboratory.intrinsic+json": {
              "type": "string"
            }
          },
          "metadata": {},
          "execution_count": 86
        }
      ]
    },
    {
      "cell_type": "markdown",
      "source": [
        "-\n",
        "  - 16 :E\n",
        "  - Fix pointnumber formate, in uppercase formate( shoe inf and nan as INF and NAN)"
      ],
      "metadata": {
        "id": "ogDIG5iQe8A9"
      }
    },
    {
      "cell_type": "code",
      "source": [
        "s1=\"The price is {x:F}\".format(x=float('inf'))\n",
        "print(s1)\n",
        "s2=\"The price is {x:f}\".format(x=float('inf'))\n",
        "print(s2)\n",
        "s3=\"The price is {x:f}\".format(x=float('nan'))\n",
        "print(s3)\n",
        "s4=\"The price is {x:F}\".format(x=float('nan'))\n",
        "print(s4)"
      ],
      "metadata": {
        "colab": {
          "base_uri": "https://localhost:8080/"
        },
        "id": "NPxw0_qtfa-j",
        "outputId": "208c73a8-1a2b-4d71-d9a8-7abb905dc62f"
      },
      "execution_count": null,
      "outputs": [
        {
          "output_type": "stream",
          "name": "stdout",
          "text": [
            "The price is INF\n",
            "The price is inf\n",
            "The price is nan\n",
            "The price is NAN\n"
          ]
        }
      ]
    },
    {
      "cell_type": "markdown",
      "source": [
        "-\n",
        "  - 17 :g\n",
        "  - Genral format"
      ],
      "metadata": {
        "id": "NbkB9xNlh6Vs"
      }
    },
    {
      "cell_type": "code",
      "source": [
        "number = 1234.5678\n",
        "s1 = \"The number in general format is {:g}.\"\n",
        "print(s1.format(number))\n",
        "\n",
        "s1 = \"The number in general format is {:.2g}.\"\n",
        "print(s1.format(number))\n"
      ],
      "metadata": {
        "colab": {
          "base_uri": "https://localhost:8080/"
        },
        "id": "KxQN-91xiA3F",
        "outputId": "328b6ac6-907a-438c-d991-103d0f988a73"
      },
      "execution_count": null,
      "outputs": [
        {
          "output_type": "stream",
          "name": "stdout",
          "text": [
            "The number in general format is 1234.57.\n",
            "The number in general format is 1.2e+03.\n"
          ]
        }
      ]
    },
    {
      "cell_type": "markdown",
      "source": [
        "-\n",
        "  - 18 :G\n",
        "  - Genral format(Using a upper case E for scientific notations)"
      ],
      "metadata": {
        "id": "C-lgKNYXiXVk"
      }
    },
    {
      "cell_type": "code",
      "source": [
        "# same but here just scientific notation incapital\n",
        "number = 1234.5678\n",
        "s1 = \"The number in general format is {:G}.\"\n",
        "print(s1.format(number))\n",
        "\n",
        "s2 = \"The number in general format is {:.2G}.\"\n",
        "print(s2.format(number))"
      ],
      "metadata": {
        "colab": {
          "base_uri": "https://localhost:8080/"
        },
        "id": "fRPlYEx_ikvb",
        "outputId": "7fbc2717-07fe-40e4-cb54-205d56a6585f"
      },
      "execution_count": null,
      "outputs": [
        {
          "output_type": "stream",
          "name": "stdout",
          "text": [
            "The number in general format is 1234.57.\n",
            "The number in general format is 1.2E+03.\n"
          ]
        }
      ]
    },
    {
      "cell_type": "markdown",
      "source": [
        "-\n",
        "  - 19 :o\n",
        "  - octal format"
      ],
      "metadata": {
        "id": "SInLGLc7i5nL"
      }
    },
    {
      "cell_type": "code",
      "source": [
        "s1=\"The octal value of {0} is {0:o}\".format(20)\n",
        "s1"
      ],
      "metadata": {
        "colab": {
          "base_uri": "https://localhost:8080/",
          "height": 35
        },
        "id": "1pueezWmjEqS",
        "outputId": "cb67997c-2de1-4528-a69c-d3280c6dbfd3"
      },
      "execution_count": null,
      "outputs": [
        {
          "output_type": "execute_result",
          "data": {
            "text/plain": [
              "'The octal value of 20 is 24'"
            ],
            "application/vnd.google.colaboratory.intrinsic+json": {
              "type": "string"
            }
          },
          "metadata": {},
          "execution_count": 102
        }
      ]
    },
    {
      "cell_type": "markdown",
      "source": [
        "-\n",
        "  - 20 :x\n",
        "  - Hex format,lower case"
      ],
      "metadata": {
        "id": "TO8dLXRHjxbi"
      }
    },
    {
      "cell_type": "code",
      "source": [
        "s1=\"The hex value of {0} is {0:x}\".format(250)\n",
        "s1"
      ],
      "metadata": {
        "colab": {
          "base_uri": "https://localhost:8080/",
          "height": 35
        },
        "id": "pqk14L9Cj7VW",
        "outputId": "cba8fc06-4823-44bb-c5ee-f0596ebaa148"
      },
      "execution_count": null,
      "outputs": [
        {
          "output_type": "execute_result",
          "data": {
            "text/plain": [
              "'The hex value of 250 is fa'"
            ],
            "application/vnd.google.colaboratory.intrinsic+json": {
              "type": "string"
            }
          },
          "metadata": {},
          "execution_count": 105
        }
      ]
    },
    {
      "cell_type": "markdown",
      "source": [
        "-\n",
        "  - 21 :X\n",
        "  - Hex formate ,Upper case"
      ],
      "metadata": {
        "id": "Srz2MLNikSDR"
      }
    },
    {
      "cell_type": "code",
      "source": [
        "# here just show the capital hex digit\n",
        "s1=\"The hax value of {0} is {0:X}\".format(255)\n",
        "s1"
      ],
      "metadata": {
        "colab": {
          "base_uri": "https://localhost:8080/",
          "height": 35
        },
        "id": "CgFIlAmtkYg1",
        "outputId": "12e60b6a-9a89-4995-ebae-0d45191cfd91"
      },
      "execution_count": null,
      "outputs": [
        {
          "output_type": "execute_result",
          "data": {
            "text/plain": [
              "'The hax value of 255 is FF'"
            ],
            "application/vnd.google.colaboratory.intrinsic+json": {
              "type": "string"
            }
          },
          "metadata": {},
          "execution_count": 108
        }
      ]
    },
    {
      "cell_type": "markdown",
      "source": [
        "-\n",
        "  - 22 :n\n",
        "  - number format"
      ],
      "metadata": {
        "id": "98k4d6Qckr5G"
      }
    },
    {
      "cell_type": "code",
      "source": [
        "s1=\"The number format is {:n}\".format(1008.00)\n",
        "s1"
      ],
      "metadata": {
        "colab": {
          "base_uri": "https://localhost:8080/",
          "height": 35
        },
        "id": "KqWMiv1okrYQ",
        "outputId": "0990055f-e4fd-4980-b9a9-31c53bdf0944"
      },
      "execution_count": null,
      "outputs": [
        {
          "output_type": "execute_result",
          "data": {
            "text/plain": [
              "'The number format is 1008'"
            ],
            "application/vnd.google.colaboratory.intrinsic+json": {
              "type": "string"
            }
          },
          "metadata": {},
          "execution_count": 111
        }
      ]
    },
    {
      "cell_type": "markdown",
      "source": [
        "-\n",
        "  - 23 :%\n",
        "  - persentage format"
      ],
      "metadata": {
        "id": "9QItzaeIlSly"
      }
    },
    {
      "cell_type": "code",
      "source": [
        "s1=\"The persentage is {:%}\".format(0.34)\n",
        "print(s1)\n",
        "s2=\"The persentage is {:.0%}\".format(0.06)\n",
        "s2"
      ],
      "metadata": {
        "colab": {
          "base_uri": "https://localhost:8080/",
          "height": 52
        },
        "id": "nILC5eBJldQO",
        "outputId": "5ef90b26-cbe2-4edc-de5d-a29f35e0b823"
      },
      "execution_count": null,
      "outputs": [
        {
          "output_type": "stream",
          "name": "stdout",
          "text": [
            "The persentage is 34.000000%\n"
          ]
        },
        {
          "output_type": "execute_result",
          "data": {
            "text/plain": [
              "'The persentage is 6%'"
            ],
            "application/vnd.google.colaboratory.intrinsic+json": {
              "type": "string"
            }
          },
          "metadata": {},
          "execution_count": 114
        }
      ]
    },
    {
      "cell_type": "markdown",
      "source": [
        "# 11-format_map()\n",
        "- The format_map() is use to split or detect the value from dictionary or any other mapping object\n",
        "- the syntax is:string.format_map(mapping)\n",
        "  - **mapping**:It use to implement the mapping project"
      ],
      "metadata": {
        "id": "N2g4tjVKmHa4"
      }
    },
    {
      "cell_type": "code",
      "source": [
        "dict1={\"name\":\"Burhan\",\"age\":21}\n",
        "s1=\"My name is {name} and my age is {age}\".format_map(dict1)\n",
        "s1"
      ],
      "metadata": {
        "colab": {
          "base_uri": "https://localhost:8080/",
          "height": 35
        },
        "id": "98eJYjBHnqAx",
        "outputId": "1e7627e1-6b60-466c-b167-f98f02246d2c"
      },
      "execution_count": null,
      "outputs": [
        {
          "output_type": "execute_result",
          "data": {
            "text/plain": [
              "'My name is Burhan and my age is 21'"
            ],
            "application/vnd.google.colaboratory.intrinsic+json": {
              "type": "string"
            }
          },
          "metadata": {},
          "execution_count": 115
        }
      ]
    },
    {
      "cell_type": "markdown",
      "source": [
        "# 12-index()\n",
        "- The index() method finds the first occurrence of the specified value\n",
        "- The index() method raises an exception if the value is not found\n",
        "- The index() method is almost the same as the find() method the only difference is that the find() method returns -1 if the the value is not found\n",
        "- The syntax is :string.index(value,start,end)\n",
        "  - **value**: Requried | The value to search for\n",
        "  - **start**: Optional | where to start search | Defualt is 0\n",
        "  - **end**  : optional | where to end the search | defualt value where string end"
      ],
      "metadata": {
        "id": "0t9-gcy3ofzF"
      }
    },
    {
      "cell_type": "code",
      "source": [
        "s1=\"Welcome to python in AI\"\n",
        "print(s1.index(\"Welcome\"))"
      ],
      "metadata": {
        "colab": {
          "base_uri": "https://localhost:8080/"
        },
        "id": "ECcBJceMpgXM",
        "outputId": "06c36145-853f-4bd6-849b-c0d3d1449e08"
      },
      "execution_count": null,
      "outputs": [
        {
          "output_type": "stream",
          "name": "stdout",
          "text": [
            "0\n"
          ]
        }
      ]
    },
    {
      "cell_type": "code",
      "source": [
        "print(s1.index(\"e\",1,10))"
      ],
      "metadata": {
        "colab": {
          "base_uri": "https://localhost:8080/"
        },
        "id": "n93thZ4rqTZE",
        "outputId": "99df5090-8194-4051-c914-320ab1cd01d7"
      },
      "execution_count": null,
      "outputs": [
        {
          "output_type": "stream",
          "name": "stdout",
          "text": [
            "1\n"
          ]
        }
      ]
    },
    {
      "cell_type": "code",
      "source": [
        "s1 = \"Hello, welcome to my world.\"\n",
        "\n",
        "print(s1.find(\"q\")) # if value not found find() return -1\n",
        "print(s1.index(\"q\")) # if not found return error"
      ],
      "metadata": {
        "colab": {
          "base_uri": "https://localhost:8080/",
          "height": 193
        },
        "id": "6w9qb2DVqmB9",
        "outputId": "07a55db0-2f51-44a6-8051-2b352159ff0d"
      },
      "execution_count": null,
      "outputs": [
        {
          "output_type": "stream",
          "name": "stdout",
          "text": [
            "-1\n"
          ]
        },
        {
          "output_type": "error",
          "ename": "ValueError",
          "evalue": "substring not found",
          "traceback": [
            "\u001b[0;31m---------------------------------------------------------------------------\u001b[0m",
            "\u001b[0;31mValueError\u001b[0m                                Traceback (most recent call last)",
            "\u001b[0;32m<ipython-input-119-bf2d42d20fd4>\u001b[0m in \u001b[0;36m<cell line: 4>\u001b[0;34m()\u001b[0m\n\u001b[1;32m      2\u001b[0m \u001b[0;34m\u001b[0m\u001b[0m\n\u001b[1;32m      3\u001b[0m \u001b[0mprint\u001b[0m\u001b[0;34m(\u001b[0m\u001b[0ms1\u001b[0m\u001b[0;34m.\u001b[0m\u001b[0mfind\u001b[0m\u001b[0;34m(\u001b[0m\u001b[0;34m\"q\"\u001b[0m\u001b[0;34m)\u001b[0m\u001b[0;34m)\u001b[0m\u001b[0;34m\u001b[0m\u001b[0;34m\u001b[0m\u001b[0m\n\u001b[0;32m----> 4\u001b[0;31m \u001b[0mprint\u001b[0m\u001b[0;34m(\u001b[0m\u001b[0ms1\u001b[0m\u001b[0;34m.\u001b[0m\u001b[0mindex\u001b[0m\u001b[0;34m(\u001b[0m\u001b[0;34m\"q\"\u001b[0m\u001b[0;34m)\u001b[0m\u001b[0;34m)\u001b[0m\u001b[0;34m\u001b[0m\u001b[0;34m\u001b[0m\u001b[0m\n\u001b[0m",
            "\u001b[0;31mValueError\u001b[0m: substring not found"
          ]
        }
      ]
    },
    {
      "cell_type": "markdown",
      "source": [
        "# 13-isalnum()\n",
        "- The isalnum() method return True if all the charcter are alphaNumeric\n",
        "- the Syntax is:string.isalnum()\n"
      ],
      "metadata": {
        "id": "JVfG92COq9mG"
      }
    },
    {
      "cell_type": "code",
      "source": [
        "s1=\"WelcomeToPythonInAI1\".isalnum()\n",
        "print(s1)\n",
        "s2=\"Welcome To Python In AI\".isalnum()\n",
        "print(s2)"
      ],
      "metadata": {
        "colab": {
          "base_uri": "https://localhost:8080/"
        },
        "id": "IwfJQwDTsFsR",
        "outputId": "2845361b-3a07-4efa-b7be-b4ac1cc7fad6"
      },
      "execution_count": null,
      "outputs": [
        {
          "output_type": "stream",
          "name": "stdout",
          "text": [
            "True\n",
            "False\n"
          ]
        }
      ]
    },
    {
      "cell_type": "markdown",
      "source": [
        "# 14-isalpha()\n",
        "- The isalpha() method returns True if all the characters are alphabet letters\n",
        "- The syntax:isalpha()"
      ],
      "metadata": {
        "id": "TPa2G6oquM8L"
      }
    },
    {
      "cell_type": "code",
      "source": [
        "s1=\"welcometopythoninAI\".isalpha()\n",
        "print(s1)\n",
        "s2=\"welcometopythoninAI1\".isalpha()\n",
        "print(s2)"
      ],
      "metadata": {
        "colab": {
          "base_uri": "https://localhost:8080/"
        },
        "id": "MXE0uwGkuw45",
        "outputId": "de7b740d-f87d-4609-8474-4e97a1c41de3"
      },
      "execution_count": null,
      "outputs": [
        {
          "output_type": "stream",
          "name": "stdout",
          "text": [
            "True\n",
            "False\n"
          ]
        }
      ]
    },
    {
      "cell_type": "markdown",
      "source": [
        "# 15-isascii()\n",
        "- The asascii() method returns True if all the characters are ascii character\n",
        "- The syntax:string.isascii()"
      ],
      "metadata": {
        "id": "-3zjJW02vSLe"
      }
    },
    {
      "cell_type": "code",
      "source": [
        "s1=\"welcome to the AI 123\".isascii()\n",
        "print(s1)\n",
        "s2=\"123 😊\".isascii()\n",
        "print(s2)"
      ],
      "metadata": {
        "colab": {
          "base_uri": "https://localhost:8080/"
        },
        "id": "G0CcqMxlvu3W",
        "outputId": "2b95b84c-3403-4d96-f8b8-05f2d5e3b6db"
      },
      "execution_count": null,
      "outputs": [
        {
          "output_type": "stream",
          "name": "stdout",
          "text": [
            "True\n",
            "False\n"
          ]
        }
      ]
    },
    {
      "cell_type": "markdown",
      "source": [
        "# 16-isdecimal()\n",
        "- The isdecimal() method return True if all character are decimal (0-9)\n",
        "- The method can also be used on unicode object"
      ],
      "metadata": {
        "id": "ZKEtdJ5hwocF"
      }
    },
    {
      "cell_type": "code",
      "source": [
        "s1=\"12345\".isdecimal()\n",
        "print(s1)\n",
        "s2=\"123.45\".isdecimal()\n",
        "print(s2)"
      ],
      "metadata": {
        "colab": {
          "base_uri": "https://localhost:8080/"
        },
        "id": "Wp51MOtDxEQ8",
        "outputId": "47717acd-430f-4e5c-b9d9-a8f205c8ca2f"
      },
      "execution_count": null,
      "outputs": [
        {
          "output_type": "stream",
          "name": "stdout",
          "text": [
            "True\n",
            "False\n"
          ]
        }
      ]
    },
    {
      "cell_type": "code",
      "source": [
        "a = \"\\u0030\" #unicode for 0\n",
        "b = \"\\u0047\" #unicode for G\n",
        "\n",
        "print(a.isdecimal())\n",
        "print(b.isdecimal())"
      ],
      "metadata": {
        "colab": {
          "base_uri": "https://localhost:8080/"
        },
        "id": "yN7UQgNIxPOE",
        "outputId": "bc25129a-b0b0-4f7d-b549-879b1e0740b6"
      },
      "execution_count": null,
      "outputs": [
        {
          "output_type": "stream",
          "name": "stdout",
          "text": [
            "True\n",
            "False\n"
          ]
        }
      ]
    },
    {
      "cell_type": "markdown",
      "source": [
        "# 17-isdigit()\n",
        "- The isdigit() method returns True if all the character are digits otherwise False\n",
        "- Exponents like 2, are also considered to be a digit\n",
        "- The syntax:string.indigit()"
      ],
      "metadata": {
        "id": "tt_fzj6BxbIa"
      }
    },
    {
      "cell_type": "code",
      "source": [
        "s1=\"5090000\"\n",
        "print(s1.isdigit())\n",
        "s2=\"5090000.\"\n",
        "print(s2.isdigit())"
      ],
      "metadata": {
        "colab": {
          "base_uri": "https://localhost:8080/"
        },
        "id": "eCdma3SJyOE7",
        "outputId": "e8aa9518-84b7-449a-91d3-e94fba86cd95"
      },
      "execution_count": null,
      "outputs": [
        {
          "output_type": "stream",
          "name": "stdout",
          "text": [
            "True\n",
            "False\n"
          ]
        }
      ]
    },
    {
      "cell_type": "code",
      "source": [
        "a=\"\\u0030\"\n",
        "b=\"\\u00B2\"\n",
        "print(a.isdigit())\n",
        "print(b.isdigit())"
      ],
      "metadata": {
        "colab": {
          "base_uri": "https://localhost:8080/"
        },
        "id": "VKZx1YGDyYkA",
        "outputId": "28b3a6b6-6fb0-4b73-a6c9-08891b04c83b"
      },
      "execution_count": null,
      "outputs": [
        {
          "output_type": "stream",
          "name": "stdout",
          "text": [
            "True\n",
            "True\n"
          ]
        }
      ]
    },
    {
      "cell_type": "markdown",
      "source": [
        "# 18-isidentifier()\n",
        "- The isidentifier() method returns True if the string is a valid identifier otherwise False\n",
        "- A string is considered a valid identifier if it only contains alphanumeric letters(a-z) and (0-9) or underscore (_) A vaild identifier cannot start with a number or contain any spaces.\n",
        "- The syntax:string.isidentifier()"
      ],
      "metadata": {
        "id": "yEDcdjGgy1g9"
      }
    },
    {
      "cell_type": "code",
      "source": [
        "s1=\"Burhan \"\n",
        "print(s1.isidentifier())"
      ],
      "metadata": {
        "colab": {
          "base_uri": "https://localhost:8080/"
        },
        "id": "IaAYxYdS0AnE",
        "outputId": "171083fe-20b3-488c-e7c9-bec99a7cc344"
      },
      "execution_count": null,
      "outputs": [
        {
          "output_type": "stream",
          "name": "stdout",
          "text": [
            "False\n"
          ]
        }
      ]
    },
    {
      "cell_type": "code",
      "source": [
        "a = \"MyFolder\"\n",
        "b = \"Demo002\"\n",
        "c = \"2bring\"\n",
        "d = \"my demo\"\n",
        "\n",
        "print(a.isidentifier())\n",
        "print(b.isidentifier())\n",
        "print(c.isidentifier())\n",
        "print(d.isidentifier())"
      ],
      "metadata": {
        "colab": {
          "base_uri": "https://localhost:8080/"
        },
        "id": "e9wLuBdV0eoO",
        "outputId": "99d17a7a-569f-463e-e9f7-56038adb04af"
      },
      "execution_count": null,
      "outputs": [
        {
          "output_type": "stream",
          "name": "stdout",
          "text": [
            "True\n",
            "True\n",
            "False\n",
            "False\n"
          ]
        }
      ]
    },
    {
      "cell_type": "markdown",
      "source": [
        "# 19-islower() method returns True if all the characters are in lower case othweise False\n",
        "- Number,symbols and space are not checked only alphabet character\n",
        "- The syantx is:string.islower()"
      ],
      "metadata": {
        "id": "wL6qBjNsCeIy"
      }
    },
    {
      "cell_type": "code",
      "source": [
        "s1=\"Welcome to Ai\".islower()\n",
        "print(s1)\n",
        "s2=\"WELCOME TO AI\".islower()\n",
        "print(s2)\n",
        "s3=\"WELCOMETOAI\".islower()\n",
        "print(s3)\n",
        "s4=\"welcome to ai\".islower()\n",
        "print(s4)"
      ],
      "metadata": {
        "colab": {
          "base_uri": "https://localhost:8080/"
        },
        "id": "PLssX5GxCZ4Z",
        "outputId": "4fcffb2a-f8f1-47c1-fa59-19cd94ffbe28"
      },
      "execution_count": null,
      "outputs": [
        {
          "output_type": "stream",
          "name": "stdout",
          "text": [
            "False\n",
            "False\n",
            "False\n",
            "True\n"
          ]
        }
      ]
    },
    {
      "cell_type": "markdown",
      "source": [
        "# 20-isnumeric()\n",
        "- The isnumeric() method return True if all the character are numeric(0-9),otherwise False\n",
        "- Exponents like power and over form are also considered to be numeric value\n",
        "- **-1** and **1.5** ane NOT condidered numeric value, beacuse all the character in the string must be numeric and the - and the . are not\n",
        "- The syntax is : string.isnumeric()"
      ],
      "metadata": {
        "id": "MF17ns-YEtw8"
      }
    },
    {
      "cell_type": "code",
      "source": [
        "s1=\"12345\".isnumeric()\n",
        "print(s1)\n",
        "s2=\"1.2344\".isnumeric()\n",
        "print(s2)\n",
        "s3=\"12^2\".isnumeric()# if i write in power then it consider\n",
        "print(s3)\n",
        "s4=\"3/4\".isnumeric()# if i write in power then it consider\n",
        "print(s4)"
      ],
      "metadata": {
        "colab": {
          "base_uri": "https://localhost:8080/"
        },
        "id": "GR3hbdY6FdYm",
        "outputId": "03e061a3-bb7c-46f5-d193-7d316b63f41b"
      },
      "execution_count": null,
      "outputs": [
        {
          "output_type": "stream",
          "name": "stdout",
          "text": [
            "True\n",
            "False\n",
            "False\n",
            "False\n"
          ]
        }
      ]
    },
    {
      "cell_type": "markdown",
      "source": [
        "# 21-isprintable()\n",
        "- The isprintable() method returns True if all the characters are printable,otherwise False\n",
        "- Example of none printable character can be carriage return and line feed\n",
        "- The syntax is : string.isprintable()"
      ],
      "metadata": {
        "id": "iAxviZLuGKQH"
      }
    },
    {
      "cell_type": "code",
      "source": [
        "s1=\"welcome to AI\".isprintable()\n",
        "print(s1)\n",
        "s2=\"welcome!\\to!\\AI\".isprintable()\n",
        "print(s2)\n",
        "s3=\"Welcome to Ai #1\".isprintable()\n",
        "print(s3)"
      ],
      "metadata": {
        "colab": {
          "base_uri": "https://localhost:8080/"
        },
        "id": "TjQREZEBGoaz",
        "outputId": "0f2f7418-915d-4ce3-c4eb-69e835e658f2"
      },
      "execution_count": null,
      "outputs": [
        {
          "output_type": "stream",
          "name": "stdout",
          "text": [
            "True\n",
            "False\n",
            "True\n"
          ]
        }
      ]
    },
    {
      "cell_type": "markdown",
      "source": [
        "# 22-isspace()\n",
        "- The isspace() method returns True if all the characters in a string are whitespace,otherwise False\n",
        "- The syntax is : string.isspace()"
      ],
      "metadata": {
        "id": "bfegccitIVCN"
      }
    },
    {
      "cell_type": "code",
      "source": [
        "s1=\"                         \"\n",
        "print(s1.isspace())\n",
        "s2=\"weclome             to  AI\".isspace()\n",
        "print(s2)"
      ],
      "metadata": {
        "colab": {
          "base_uri": "https://localhost:8080/"
        },
        "id": "-1mchaPDIrYt",
        "outputId": "f94523eb-165d-4f95-b8df-36babe9f9e4d"
      },
      "execution_count": null,
      "outputs": [
        {
          "output_type": "stream",
          "name": "stdout",
          "text": [
            "True\n",
            "False\n"
          ]
        }
      ]
    },
    {
      "cell_type": "markdown",
      "source": [
        "# 23-istitle()\n",
        "- The istitle() method returns True if all words in a text start with a upper case letter, And the rest of the word are lower case letters otherwise False\n",
        "- Symbols and numbers are ignored.\n",
        "- The syntax is : string.istitle()"
      ],
      "metadata": {
        "id": "dcZUrVUlI_iN"
      }
    },
    {
      "cell_type": "code",
      "source": [
        "s1=\"welcome to python with AI!\"\n",
        "print(s1.istitle())\n",
        "s2=\"Welcome to python\".istitle()\n",
        "print(s2)\n",
        "s3=\"Welcome To Python123\".istitle()\n",
        "print(s3)\n"
      ],
      "metadata": {
        "colab": {
          "base_uri": "https://localhost:8080/"
        },
        "id": "dp3kq7TgJgEb",
        "outputId": "a6c420bf-8ce0-422b-e4e6-b578f5e4fade"
      },
      "execution_count": null,
      "outputs": [
        {
          "output_type": "stream",
          "name": "stdout",
          "text": [
            "False\n",
            "False\n",
            "True\n"
          ]
        }
      ]
    },
    {
      "cell_type": "markdown",
      "source": [
        "# 24-isupper()\n",
        "- The isupper() method returns True if all the character are in Upper case,otherwise False\n",
        "- Number,symbols and spaces are not checked only alphabet characters\n",
        "- The syntax is: string.isupper()"
      ],
      "metadata": {
        "id": "5J0LNooxJ7B9"
      }
    },
    {
      "cell_type": "code",
      "source": [
        "s1=\"WELCOME\".isupper()\n",
        "print(s1)\n",
        "s2=\"welcome\".isupper()\n",
        "print(s2)\n",
        "s3=\"Welcome\".isupper()\n",
        "print(s3)\n",
        "s4=\"WELCOME TO PYTHON\".isupper()\n",
        "print(s4)"
      ],
      "metadata": {
        "colab": {
          "base_uri": "https://localhost:8080/"
        },
        "id": "hbYOUzraJz5z",
        "outputId": "7ebf6443-c05b-4fc3-ac3e-b56cecfc3d08"
      },
      "execution_count": null,
      "outputs": [
        {
          "output_type": "stream",
          "name": "stdout",
          "text": [
            "True\n",
            "False\n",
            "False\n",
            "True\n"
          ]
        }
      ]
    },
    {
      "cell_type": "markdown",
      "source": [
        "# 25-join()\n",
        "- The join() method takes all items in an iterable and joins them into one string\n",
        "- A string must be specified as the separator\n",
        "- The syntax is: string.join(iterable)\n",
        "  - **iterable**: Requried | Any iterable object where all the returned value are strings"
      ],
      "metadata": {
        "id": "tofbz11PKvgk"
      }
    },
    {
      "cell_type": "code",
      "source": [
        "s1=\"Welcome\".join((\"burhan\",\"Ali\",\"Umar\")) # declare tuple\n",
        "print(s1)\n",
        "s2=\"Welcome\".join({\"name\":\"Burhan\",\"name2\":\"Umar\"})# declare dictionary\n",
        "print(s2)\n",
        "s3=\"#\".join([\"Burhan\",\"umar\"]) # declare list\n",
        "print(s3)"
      ],
      "metadata": {
        "colab": {
          "base_uri": "https://localhost:8080/"
        },
        "id": "e8XZ7cw9LHTa",
        "outputId": "28cdd6d2-1556-4ef8-bb69-38bd11ef3676"
      },
      "execution_count": null,
      "outputs": [
        {
          "output_type": "stream",
          "name": "stdout",
          "text": [
            "burhanWelcomeAliWelcomeUmar\n",
            "nameWelcomename2\n",
            "Burhan#umar\n"
          ]
        }
      ]
    },
    {
      "cell_type": "markdown",
      "source": [
        "# 26-ljust\n",
        "- The ljust() method will left align the string,using a specified character(space is defult) as the fill character\n",
        "- The syntax:string.ljust(length,character)\n",
        "  - **length**: Requried | The length of the returned string\n",
        "  - **character**: Optional | A character to fill the missing space (to the right of the string) | defualt is \" \"(space)"
      ],
      "metadata": {
        "id": "m3-FbP_XMgX5"
      }
    },
    {
      "cell_type": "code",
      "source": [
        "s1=\"Burhan\".ljust(20)\n",
        "print(s1)\n",
        "s2=\"Welcome to \".ljust(14,\"B\")\n",
        "print(s2)"
      ],
      "metadata": {
        "colab": {
          "base_uri": "https://localhost:8080/"
        },
        "id": "maQY2fwANanp",
        "outputId": "457f81e5-d17c-4c64-e919-ab9ad1133c43"
      },
      "execution_count": null,
      "outputs": [
        {
          "output_type": "stream",
          "name": "stdout",
          "text": [
            "Burhan              \n",
            "Welcome to BBB\n"
          ]
        }
      ]
    },
    {
      "cell_type": "markdown",
      "source": [
        "# 27-lower()\n",
        "- The lower() method returns a string where all character are lower case\n",
        "- Symbols and Number are ignored\n",
        "- The syntax is : string.lower()"
      ],
      "metadata": {
        "id": "NyQIk3cdOjGM"
      }
    },
    {
      "cell_type": "code",
      "source": [
        "s1=\"Welcome TO AI\".lower()\n",
        "print(s1)\n",
        "s2=\"WELCOME TO AI\".lower()\n",
        "print(s2)"
      ],
      "metadata": {
        "colab": {
          "base_uri": "https://localhost:8080/"
        },
        "id": "xixNOrsdPFlu",
        "outputId": "8942ed10-6746-426d-e00c-b012d7b63660"
      },
      "execution_count": null,
      "outputs": [
        {
          "output_type": "stream",
          "name": "stdout",
          "text": [
            "welcome to ai\n",
            "welcome to ai\n"
          ]
        }
      ]
    },
    {
      "cell_type": "markdown",
      "source": [
        "# 28-lstrip()\n",
        "- The lstrip() method remove any leading character(space is the defualt leading character to remove)\n",
        "- The syntax is:string.lstrip()\n",
        "  - **character**: Optional | A set of character to remove as leading characters"
      ],
      "metadata": {
        "id": "f5PWj9E6PIxA"
      }
    },
    {
      "cell_type": "code",
      "source": [
        "s1=\"Burhan\".lstrip()\n",
        "print(\"Welcome\",s1,\"to AI\") # simple call the string"
      ],
      "metadata": {
        "colab": {
          "base_uri": "https://localhost:8080/"
        },
        "id": "c0wtrDVlPQQn",
        "outputId": "a7c3abf9-92ff-44bc-da22-2c4ce8fb4a59"
      },
      "execution_count": null,
      "outputs": [
        {
          "output_type": "stream",
          "name": "stdout",
          "text": [
            "Welcome Burhan to AI\n"
          ]
        }
      ]
    },
    {
      "cell_type": "code",
      "source": [
        "# for character use\n",
        "s1=\",,,Burhan....Umar\".lstrip(\",.Ali\")\n",
        "print(\"Welcome\",s1)"
      ],
      "metadata": {
        "colab": {
          "base_uri": "https://localhost:8080/"
        },
        "id": "H5cg8ifgQulh",
        "outputId": "805409bb-dd29-4608-fd5b-0fa405353142"
      },
      "execution_count": null,
      "outputs": [
        {
          "output_type": "stream",
          "name": "stdout",
          "text": [
            "Welcome Burhan....Umar\n"
          ]
        }
      ]
    },
    {
      "cell_type": "code",
      "source": [
        "# for character use\n",
        "s1=\",,,Burhan....Umar\".lstrip(\",.Burhan\")\n",
        "print(\"Welcome\",s1)"
      ],
      "metadata": {
        "colab": {
          "base_uri": "https://localhost:8080/"
        },
        "id": "MbSIyE7VRVSs",
        "outputId": "dc5b9d95-13df-457f-d7d6-7b30f461077c"
      },
      "execution_count": null,
      "outputs": [
        {
          "output_type": "stream",
          "name": "stdout",
          "text": [
            "Welcome Umar\n"
          ]
        }
      ]
    },
    {
      "cell_type": "markdown",
      "source": [
        "# 29-maketrans()\n",
        "- The maketrans() method returns a mapping table that can be used with the translate() method to replace specified characters\n",
        "- The syntax is : string.maketrans(x,y,z)\n",
        "  - **x**: Requried | If only one parameter is specified this has to be a dicitionary describing how to preform the replace.If two or more parameters are specified this parameter has to be a string specifying the characters you want to replace\n",
        "  - **y**: Optional | A string with the same length as parameter x.Each character in the first parameter will be replaced with the corresponding character in this string\n",
        "  - **z**: Optional | A string describing which character to remove from the orignal string"
      ],
      "metadata": {
        "id": "krpXP16DReFJ"
      }
    },
    {
      "cell_type": "code",
      "source": [
        "s1=\"Hello Nurhan\".translate(str.maketrans(\"Nurhan\",\"Burhan\"))\n",
        "print(s1)"
      ],
      "metadata": {
        "id": "6S8vUpq3VL2W",
        "colab": {
          "base_uri": "https://localhost:8080/"
        },
        "outputId": "f793d6f5-64b0-4404-d906-96e48bd2a4bb"
      },
      "execution_count": null,
      "outputs": [
        {
          "output_type": "stream",
          "name": "stdout",
          "text": [
            "Hello Burhan\n"
          ]
        }
      ]
    },
    {
      "cell_type": "code",
      "source": [
        "# here again same function with simple\n",
        "s1=\"Hello Nurhan\" # declare string\n",
        "s2=str.maketrans(\"Nurhan\",\"Burhan\") # here call the maketrans function also assign parameter\n",
        "print(s1.translate(s2))# here call translate function also call the s1,s2"
      ],
      "metadata": {
        "colab": {
          "base_uri": "https://localhost:8080/"
        },
        "id": "NL_xhSqb4E63",
        "outputId": "eb7b15e9-11ec-4e9b-9052-b2541370e96b"
      },
      "execution_count": null,
      "outputs": [
        {
          "output_type": "stream",
          "name": "stdout",
          "text": [
            "Hello Burhan\n"
          ]
        }
      ]
    },
    {
      "cell_type": "code",
      "source": [
        "# Create a translation table\n",
        "trans_table = str.maketrans(\"abc\", \"xyz\")\n",
        "\n",
        "# Apply the translation table\n",
        "result = \"apple banana cherry\".translate(trans_table)\n",
        "print(result)\n"
      ],
      "metadata": {
        "colab": {
          "base_uri": "https://localhost:8080/"
        },
        "id": "Hrty2pwJ3s_C",
        "outputId": "552b6ddb-a58e-487a-d0fa-d99da48d3e02"
      },
      "execution_count": null,
      "outputs": [
        {
          "output_type": "stream",
          "name": "stdout",
          "text": [
            "xpple yxnxnx zherry\n"
          ]
        }
      ]
    },
    {
      "cell_type": "code",
      "source": [
        "s1=\"Hi Burhan\"\n",
        "x=\"umar\"\n",
        "s3={char:None for char in x} # create single word dictionary\n",
        "s2=str.maketrans(s3)\n",
        "print(s1.translate(s2))"
      ],
      "metadata": {
        "colab": {
          "base_uri": "https://localhost:8080/"
        },
        "id": "w_2Ek_cR5L1W",
        "outputId": "1feda077-dab0-47cb-f211-e5dcadef8655",
        "collapsed": true
      },
      "execution_count": null,
      "outputs": [
        {
          "output_type": "stream",
          "name": "stdout",
          "text": [
            "Hi Bhn\n"
          ]
        }
      ]
    },
    {
      "cell_type": "code",
      "source": [
        "s1=\"Hi Burhan\"\n",
        "\n",
        "s3={char:None for char in \"Umar\"} # create single word dictionary\n",
        "s2=str.maketrans(s3)\n",
        "print(s1.translate(s2))"
      ],
      "metadata": {
        "colab": {
          "base_uri": "https://localhost:8080/"
        },
        "id": "63f_HL-y9IXd",
        "outputId": "f6984d77-3f76-4cdd-fda4-8ef00952b5d1"
      },
      "execution_count": null,
      "outputs": [
        {
          "output_type": "stream",
          "name": "stdout",
          "text": [
            "Hi Buhn\n"
          ]
        }
      ]
    },
    {
      "cell_type": "code",
      "source": [
        "s1=\"Hi Burhan\"\n",
        "x=\"AliUma\"\n",
        "y=\"Burhan\" # if x and y have different length display error\n",
        "s2=str.maketrans(x,y)\n",
        "print(s1.translate(s2))"
      ],
      "metadata": {
        "colab": {
          "base_uri": "https://localhost:8080/"
        },
        "id": "mL3Bo8V99NlS",
        "outputId": "e660cb56-7955-4f10-b7d4-8da7e5617497"
      },
      "execution_count": null,
      "outputs": [
        {
          "output_type": "stream",
          "name": "stdout",
          "text": [
            "Hr Burhnn\n"
          ]
        }
      ]
    },
    {
      "cell_type": "code",
      "source": [
        "s1=\"Hi BUrhan\"\n",
        "x=\"Burhan\"\n",
        "y=\"Umar12\"\n",
        "z=\"Ehsan1\"\n",
        "s2=str.maketrans(x,y,z)\n",
        "print(s1.translate(s2))"
      ],
      "metadata": {
        "colab": {
          "base_uri": "https://localhost:8080/"
        },
        "id": "Bv_wBgTa9o8D",
        "outputId": "f7cf7541-d94f-470b-d4a8-9d66ebc96df5"
      },
      "execution_count": null,
      "outputs": [
        {
          "output_type": "stream",
          "name": "stdout",
          "text": [
            "Hi UUa\n"
          ]
        }
      ]
    },
    {
      "cell_type": "markdown",
      "source": [
        "# 30-Partition()\n",
        "- The partition() method searches for a specified string and splits the string into a tuple containing three element.\n",
        "- The first element contains thepart before the specified string\n",
        "- The second element contains bthe specified string\n",
        "- The third element contains the part after the string\n",
        "- The syntax is:string.partition(value)\n",
        "  - **value**: Requried | The string to search for"
      ],
      "metadata": {
        "id": "UgrSkFY1-GRR"
      }
    },
    {
      "cell_type": "code",
      "source": [
        "s1=\"Welcome to python with AI\"\n",
        "print(s1.partition(\"to\"))"
      ],
      "metadata": {
        "colab": {
          "base_uri": "https://localhost:8080/"
        },
        "id": "Tz0jwJ56-7bt",
        "outputId": "f5414e9a-638d-4ab8-8398-fed7d659531f"
      },
      "execution_count": null,
      "outputs": [
        {
          "output_type": "stream",
          "name": "stdout",
          "text": [
            "('Welcome ', 'to', ' python with AI')\n"
          ]
        }
      ]
    },
    {
      "cell_type": "markdown",
      "source": [
        "# 31-replace()\n",
        "- The replace() method replace() a specified phrase with another specified pharse\n",
        "- The syntax is:string.replace(old value,new value,count)\n",
        "  - **oldvalue**: Requried | The string to search for\n",
        "  - **newvalue**: Requried | The string to replace the old value with\n",
        "  - **count**: Optional | A number specifying how many occurrences of the old value you want to replace | Defualt is all occurrence"
      ],
      "metadata": {
        "id": "9WRbLB0N_Pq6"
      }
    },
    {
      "cell_type": "code",
      "source": [
        "s1=\"I love python\"\n",
        "print(s1.replace(\"python\",\"AI\"))"
      ],
      "metadata": {
        "colab": {
          "base_uri": "https://localhost:8080/"
        },
        "id": "LVIlc6hBAPiC",
        "outputId": "3d609afd-ada8-4115-8ca7-d9268093751a"
      },
      "execution_count": null,
      "outputs": [
        {
          "output_type": "stream",
          "name": "stdout",
          "text": [
            "I love AI\n"
          ]
        }
      ]
    },
    {
      "cell_type": "code",
      "source": [
        "s1=\"one AI AI AI AI love Ai\"\n",
        "print(s1.replace(\"AI\",\"python\",2))"
      ],
      "metadata": {
        "colab": {
          "base_uri": "https://localhost:8080/"
        },
        "id": "Zi6qcJBtAoDG",
        "outputId": "3c20de74-c57b-4a94-aab5-f17d28228f16"
      },
      "execution_count": null,
      "outputs": [
        {
          "output_type": "stream",
          "name": "stdout",
          "text": [
            "one python python AI AI love Ai\n"
          ]
        }
      ]
    },
    {
      "cell_type": "markdown",
      "source": [
        "# 32-rfind()\n",
        "- The rfind() method finds the last occurrence of thr specofied value\n",
        "- The rfind() method returns -1 if the value is not found\n",
        "- The rfind() method is almost the same as the rindex() method\n",
        "- The syntax is : string.rfind(value,start,end)\n",
        "  - **value**: Requried | The value to search for\n",
        "  - **start**: Optional | Where to start the search | defualt is 0\n",
        "  - **end** : optional | where to end the search | Defualt is to be the end of the string"
      ],
      "metadata": {
        "id": "T16-pnKHbPDQ"
      }
    },
    {
      "cell_type": "code",
      "source": [
        "s1=\"Welcome to Pakistan\"\n",
        "print(s1.rfind(\"e\"))"
      ],
      "metadata": {
        "colab": {
          "base_uri": "https://localhost:8080/"
        },
        "id": "W8WdgCN7cNGY",
        "outputId": "d2fef7e5-acd4-4be3-adcb-d3dfe769d935"
      },
      "execution_count": null,
      "outputs": [
        {
          "output_type": "stream",
          "name": "stdout",
          "text": [
            "6\n"
          ]
        }
      ]
    },
    {
      "cell_type": "code",
      "source": [
        "s1=\"welcome to Pakistan\"\n",
        "print(s1.rfind(\"e\",1,10))\n",
        "s2=\"Welcome to Pakistan\"\n",
        "print(s2.rfind(\"a\"))\n",
        "print(s2.rindex(\"a\"))\n",
        "print(s1.rfind(\"z\")) # if not any value display -1"
      ],
      "metadata": {
        "colab": {
          "base_uri": "https://localhost:8080/"
        },
        "id": "PzWCmXrrcjL3",
        "outputId": "1105fd3e-bd38-42c7-8b24-de26e1a06847"
      },
      "execution_count": null,
      "outputs": [
        {
          "output_type": "stream",
          "name": "stdout",
          "text": [
            "6\n",
            "17\n",
            "17\n",
            "-1\n"
          ]
        }
      ]
    },
    {
      "cell_type": "markdown",
      "source": [
        "# 33-rindex()\n",
        "- The rindex() method finds the last iccurrence of the dpecified value\n",
        "- The rindex() method raise an exception if the value is not found\n",
        "- The rindex() method is almost the same as the rfind() method\n",
        "- The syntax is: string.rindex(value,start,end)"
      ],
      "metadata": {
        "id": "J_7HpHDikXNE"
      }
    },
    {
      "cell_type": "code",
      "source": [
        "s1=\"Welcome to pakistan\"\n",
        "print(s1.rindex(\"a\"))\n",
        "print(s1.rfind(\"a\"))"
      ],
      "metadata": {
        "colab": {
          "base_uri": "https://localhost:8080/"
        },
        "id": "22oD7I0cdCzZ",
        "outputId": "db69de11-f550-4dbf-9a2f-059ef5b46845"
      },
      "execution_count": null,
      "outputs": [
        {
          "output_type": "stream",
          "name": "stdout",
          "text": [
            "17\n",
            "17\n"
          ]
        }
      ]
    },
    {
      "cell_type": "markdown",
      "source": [
        "# 34-rjust()\n",
        "- The rjust() method will right align the string using a specified character(space is defualt) as the fill character\n",
        "- The syntax is:string.rjust(length,character)\n",
        "  - **length**: Requried | The length of the returned string\n",
        "  - **Character**: | Optional | A character to fill the missing space (to the left of the string) Defualt is \" \" (space)"
      ],
      "metadata": {
        "id": "oCVhpPutlFhI"
      }
    },
    {
      "cell_type": "code",
      "source": [
        "s1=\"Burhan\".rjust(6)\n",
        "print(\"Welcome to\",s1)"
      ],
      "metadata": {
        "colab": {
          "base_uri": "https://localhost:8080/"
        },
        "id": "zo5tLC58mLBh",
        "outputId": "4b32ac31-93d4-42ef-871a-bdf2e74be619"
      },
      "execution_count": null,
      "outputs": [
        {
          "output_type": "stream",
          "name": "stdout",
          "text": [
            "Welcome to Burhan\n"
          ]
        }
      ]
    },
    {
      "cell_type": "code",
      "source": [
        "s1=\"Burhan\".rjust(7,\"a\")\n",
        "print(\"welcome to\",s1)"
      ],
      "metadata": {
        "colab": {
          "base_uri": "https://localhost:8080/"
        },
        "id": "bIA6gbJmmhxU",
        "outputId": "086183df-ab3d-44a4-d3c3-644b031d5c38"
      },
      "execution_count": null,
      "outputs": [
        {
          "output_type": "stream",
          "name": "stdout",
          "text": [
            "welcome to aBurhan\n"
          ]
        }
      ]
    },
    {
      "cell_type": "markdown",
      "source": [
        "# 35-rpartition()\n",
        "- The rpartition() method searches for last occurrence of a specified string, and splits the string into a tuple containg three element\n",
        "- The first element contains the part before the specified string\n",
        "- The second element containd the specified string\n",
        "- The third element contained the part after the string\n",
        "- The basic syntax is:string.rpatition(value)"
      ],
      "metadata": {
        "id": "j1zK4jdFmwzx"
      }
    },
    {
      "cell_type": "code",
      "source": [
        "s1=\"Welcome yo python with Artificial intelligence\".rpartition(\"with\")\n",
        "print(s1)"
      ],
      "metadata": {
        "colab": {
          "base_uri": "https://localhost:8080/"
        },
        "id": "rcQDBjXNoHlD",
        "outputId": "f7cb3720-c2a2-4382-93db-882f84af5250"
      },
      "execution_count": null,
      "outputs": [
        {
          "output_type": "stream",
          "name": "stdout",
          "text": [
            "('Welcome yo python ', 'with', ' Artificial intelligence')\n"
          ]
        }
      ]
    },
    {
      "cell_type": "markdown",
      "source": [
        "# 36-rsplit()\n",
        "- The split() method split a string into a list, starting from the right\n",
        "- If no \"max\" is specified the method will return the same as the split()\n",
        "- The syntax is:string.rplit(separator,maxsplit)\n",
        "  - **separator**: Optional | Specifies the separator to use when splitting the string By defual any whitespace is a separator\n",
        "  - **Maxsplit**: Optional | Specifies how many split to do Defalt value is -1 which is \"all occerrance\"\n",
        "  - **NOTE** : when maxsplit is specified the list will contain the specified number of element plus one"
      ],
      "metadata": {
        "id": "2OT10z-7onZ9"
      }
    },
    {
      "cell_type": "code",
      "source": [
        "s1=\"Welcome to python with AI & Burhan\".rsplit()\n",
        "print(s1)\n",
        "s2=\"welcome,to,python,with,AI,&,Burhan\".rsplit(\",\")\n",
        "print(s2)\n",
        "s3=\"welcome,to,Python,with,AI,&,Burhan\".rsplit(\",\",3)\n",
        "print(s3)"
      ],
      "metadata": {
        "colab": {
          "base_uri": "https://localhost:8080/"
        },
        "id": "nTYCtey-qAhS",
        "outputId": "63db7c59-906e-4e15-a654-364b7dbe6a16"
      },
      "execution_count": null,
      "outputs": [
        {
          "output_type": "stream",
          "name": "stdout",
          "text": [
            "['Welcome', 'to', 'python', 'with', 'AI', '&', 'Burhan']\n",
            "['welcome', 'to', 'python', 'with', 'AI', '&', 'Burhan']\n",
            "['welcome,to,Python,with', 'AI', '&', 'Burhan']\n"
          ]
        }
      ]
    },
    {
      "cell_type": "markdown",
      "source": [
        "# 37-rstrip()\n",
        "- The rstrip() method remove any tralling character (character at the end a string) space is the defualt trailling character to remove\n",
        "- The syntax is: string.rstrip(character)\n",
        "  - **Character**: Optional | A set of character to remove as tralling characterts"
      ],
      "metadata": {
        "id": "NQD2pVfyqwnH"
      }
    },
    {
      "cell_type": "code",
      "source": [
        "s1=\"Burhan            is               Here\".rstrip()\n",
        "print(\"our\",s1,\"Student\")"
      ],
      "metadata": {
        "colab": {
          "base_uri": "https://localhost:8080/"
        },
        "id": "57Do3z98sqdq",
        "outputId": "39f820d6-c663-4ff4-b5cf-2dbcddd5014d"
      },
      "execution_count": null,
      "outputs": [
        {
          "output_type": "stream",
          "name": "stdout",
          "text": [
            "our Burhan            is               Here Student\n"
          ]
        }
      ]
    },
    {
      "cell_type": "code",
      "source": [
        "s1 = \"banana,,,,,ssqqqww.....\"\n",
        "\n",
        "x = s1.rstrip(\",.qsw\")\n",
        "\n",
        "print(x)"
      ],
      "metadata": {
        "colab": {
          "base_uri": "https://localhost:8080/"
        },
        "id": "M_SPElDXtEER",
        "outputId": "41c4d9ce-17d1-49ab-9ef2-300fffdd74e9"
      },
      "execution_count": null,
      "outputs": [
        {
          "output_type": "stream",
          "name": "stdout",
          "text": [
            "banana\n"
          ]
        }
      ]
    },
    {
      "cell_type": "markdown",
      "source": [
        "# 38-split()\n",
        "- The split() method splits() a string into a list\n",
        "- You can specify the separator defualt separator is any whitespace\n",
        "- The syntax is:string.split(separator ,maxsplit)\n",
        "  - **Separator**: Optionl | Sepecifies the separator to use when splitting the string By defualt any whitespace is a separator\n",
        "  - **Maxsplit**: Optional | Specifies how many split to do Defualt value is -1 which os \" all occerrance\""
      ],
      "metadata": {
        "id": "-HkrwV65uLMF"
      }
    },
    {
      "cell_type": "code",
      "source": [
        "s1=\"Welcome to Pakistan\".split()\n",
        "print(s1)\n",
        "s2=\"Hello, my name is Burhan,from Sahiwal Pakistan\".split(\"<\")\n",
        "print(s2)\n",
        "s3=\"HELLO#BURHAN\".split(\"#\")\n",
        "print(s3)"
      ],
      "metadata": {
        "colab": {
          "base_uri": "https://localhost:8080/"
        },
        "id": "FaZ05cAdwpna",
        "outputId": "ecd00291-b79f-41f3-c820-3141ba5f3913"
      },
      "execution_count": null,
      "outputs": [
        {
          "output_type": "stream",
          "name": "stdout",
          "text": [
            "['Welcome', 'to', 'Pakistan']\n",
            "['Hello, my name is Burhan,from Sahiwal Pakistan']\n",
            "['HELLO', 'BURHAN']\n"
          ]
        }
      ]
    },
    {
      "cell_type": "markdown",
      "source": [
        "# 39-splitlines()\n",
        "- The splitline() method split into a split The splitting is done at line breaks\n",
        "- The syntax is : string.splitlines(keeplinebreaks)\n",
        "  **keeplinebreak**: Optional | Specifies if the line breaks should be include (True) or not (False) Defualt is False"
      ],
      "metadata": {
        "id": "F4Aqd_U0xI8e"
      }
    },
    {
      "cell_type": "code",
      "source": [
        "s1=\"Thank you for coming\\nWelcome To python\".splitlines()\n",
        "print(s1)\n",
        "s2=\"Thank you for visit\\nGoodbye\".splitlines(True)\n",
        "print(s2)"
      ],
      "metadata": {
        "colab": {
          "base_uri": "https://localhost:8080/"
        },
        "id": "OUCJ8MHex6Mx",
        "outputId": "24adfa0c-7811-4702-f915-1a3c24788c3a"
      },
      "execution_count": null,
      "outputs": [
        {
          "output_type": "stream",
          "name": "stdout",
          "text": [
            "['Thank you for coming', 'Welcome To python']\n",
            "['Thank you for visit\\n', 'Goodbye']\n"
          ]
        }
      ]
    },
    {
      "cell_type": "markdown",
      "source": [
        "# 40-startswith()\n",
        "- The startswith() method returns True if the string start eith specified valu otherwise False\n",
        "- The syntax:string.starstwith(value,start,end)\n",
        "  - **value**: Requried | The value to check if the string start with.This value parameter can alsoi be a tuple then the method returen true if the string start with any of the tuple value\n",
        "  - **start** Optional | An integer sopecified at which position to star tthe\n",
        "\n",
        "1.   List item\n",
        "2.   List item\n",
        "\n",
        "search\n",
        "  - **end** Optional | An integer specifed at which positioon to end the search"
      ],
      "metadata": {
        "id": "8wgdA7HWy1wJ"
      }
    },
    {
      "cell_type": "code",
      "source": [
        "s1=\"Welcome Burhan\".startswith(\"Burhan\")\n",
        "print(s1)\n",
        "s2=\"Hello Burhan\".startswith(\"Hello\")\n",
        "print(s2)"
      ],
      "metadata": {
        "colab": {
          "base_uri": "https://localhost:8080/"
        },
        "id": "Yuz9OsVfzv9N",
        "outputId": "2d9c05e3-c157-418b-844d-9bd00f37cb59"
      },
      "execution_count": null,
      "outputs": [
        {
          "output_type": "stream",
          "name": "stdout",
          "text": [
            "False\n",
            "True\n"
          ]
        }
      ]
    },
    {
      "cell_type": "code",
      "source": [
        "s1=\"Welcome Burhan\".startswith(\"Burhan\",7,14)\n",
        "print(s1)\n",
        "s2=\"Hello Burhan\".startswith((\"Hello\",\"Hi\"),0,15) # here chech either start Hello or Hi\n",
        "print(s2)"
      ],
      "metadata": {
        "colab": {
          "base_uri": "https://localhost:8080/"
        },
        "id": "a8vjTTqH0Ljr",
        "outputId": "3ab0a8ae-aedc-467f-8afc-c4fae9f14058"
      },
      "execution_count": null,
      "outputs": [
        {
          "output_type": "stream",
          "name": "stdout",
          "text": [
            "False\n",
            "True\n"
          ]
        }
      ]
    },
    {
      "cell_type": "markdown",
      "source": [
        "# 41-strip()\n",
        "- The strip() method removes any leading and trailing whitespace\n",
        "- Leading means at the begginng of the string trailling means at the end\n",
        "- You can specify which character(s) to remove if not any whitespace will be removed\n",
        "- The syntax is:string.strip(characters)"
      ],
      "metadata": {
        "id": "cthpZG-p0rdS"
      }
    },
    {
      "cell_type": "code",
      "source": [
        "s1=\"  Burhan    \".strip()\n",
        "print(\"Welcome\",s1,\"to AI\")"
      ],
      "metadata": {
        "colab": {
          "base_uri": "https://localhost:8080/"
        },
        "id": "gYZF8yFb1Kzq",
        "outputId": "79ca38fd-7c57-421e-933a-64e91da127e5"
      },
      "execution_count": null,
      "outputs": [
        {
          "output_type": "stream",
          "name": "stdout",
          "text": [
            "Welcome Burhan to AI\n"
          ]
        }
      ]
    },
    {
      "cell_type": "code",
      "source": [
        "s1 = \",,,,,rrttgg.....banana....rrr\"\n",
        "\n",
        "print(s1.strip(\",.grt\"))\n"
      ],
      "metadata": {
        "colab": {
          "base_uri": "https://localhost:8080/"
        },
        "id": "1ZAVAa5H1pi-",
        "outputId": "6838d103-5dc9-425b-ee80-6215ebdd481c"
      },
      "execution_count": null,
      "outputs": [
        {
          "output_type": "stream",
          "name": "stdout",
          "text": [
            "banana\n"
          ]
        }
      ]
    },
    {
      "cell_type": "markdown",
      "source": [
        "# 42-swapcase()\n",
        "- The swapcase() method returns a string where all the upper case letter are lower case and vice versa\n",
        "- The syntax is:string.swapcase()\n"
      ],
      "metadata": {
        "id": "PVRqNojU15OM"
      }
    },
    {
      "cell_type": "code",
      "source": [
        "s1=\"Welcome to AI\"\n",
        "print(s1.swapcase())\n",
        "s2=\"WELCOME TO AI\"\n",
        "print(s2.swapcase())"
      ],
      "metadata": {
        "colab": {
          "base_uri": "https://localhost:8080/"
        },
        "id": "p21k8iej2R6u",
        "outputId": "2b95d83e-ca18-456a-f67e-7532c48ac137"
      },
      "execution_count": null,
      "outputs": [
        {
          "output_type": "stream",
          "name": "stdout",
          "text": [
            "wELCOME TO ai\n",
            "welcome to ai\n"
          ]
        }
      ]
    },
    {
      "cell_type": "markdown",
      "source": [
        "#43-title()\n",
        "- The title() method returns a string where the first character in every word is upper case like a header or a title\n",
        "- If the word contains a number or a symbol the first letter after that will be converted to upper case\n",
        "- The syntax:string.title()\n"
      ],
      "metadata": {
        "id": "bgXNb9B32X92"
      }
    },
    {
      "cell_type": "code",
      "source": [
        "s1=\"burhan welcome\".title()\n",
        "print(s1)"
      ],
      "metadata": {
        "colab": {
          "base_uri": "https://localhost:8080/"
        },
        "id": "rpt0DYNn3DTy",
        "outputId": "1c19245c-767b-4faa-ebcb-945a4446f959"
      },
      "execution_count": null,
      "outputs": [
        {
          "output_type": "stream",
          "name": "stdout",
          "text": [
            "Burhan Welcome\n"
          ]
        }
      ]
    },
    {
      "cell_type": "markdown",
      "source": [
        "# 44-translate()\n",
        "- The translate() method returns a string where some specified characters are replace with the character decribe in a dicitionary or ina amapping table\n",
        "- Use the maketrans() method to create a mapping table\n",
        "- If a character is not specified in the dicitionary/table , the character will not be replaced\n",
        "- If you user a dicitionary you must use ascii code instead of character\n",
        "- The syntax is:string.translate(table)\n",
        "  - **table**: Requried | Either dicitionary or a mapping table describing how to preform the replace"
      ],
      "metadata": {
        "id": "D4DMI0eF3fcp"
      }
    },
    {
      "cell_type": "code",
      "source": [
        "s1={83:80}\n",
        "s2=\"Hello BUrhan\".translate(s1)\n",
        "print(s2)"
      ],
      "metadata": {
        "colab": {
          "base_uri": "https://localhost:8080/"
        },
        "id": "scz7Pn9OCfzc",
        "outputId": "83dbe0f9-268c-42f6-8ef9-827fe4e0cfc9"
      },
      "execution_count": null,
      "outputs": [
        {
          "output_type": "stream",
          "name": "stdout",
          "text": [
            "Hello BUrhan\n"
          ]
        }
      ]
    },
    {
      "cell_type": "code",
      "source": [
        "s1 = \"Hi Burhan!\"\n",
        "x = \"mSa\"\n",
        "y = \"eJo\"\n",
        "mytable = str.maketrans(x, y)\n",
        "print(s1.translate(mytable))"
      ],
      "metadata": {
        "colab": {
          "base_uri": "https://localhost:8080/"
        },
        "id": "zHv7PjXVC_L3",
        "outputId": "1a7b4319-e728-4c24-c62b-4bfd14bb2d25"
      },
      "execution_count": null,
      "outputs": [
        {
          "output_type": "stream",
          "name": "stdout",
          "text": [
            "Hi Burhon!\n"
          ]
        }
      ]
    },
    {
      "cell_type": "markdown",
      "source": [
        "# 46-Upper()\n",
        "- The upper() method returns a dtring where all character are in upper case Symbol and number are ignored\n",
        "- The syntax is:string.upper()"
      ],
      "metadata": {
        "id": "p4Bq0pylDJaj"
      }
    },
    {
      "cell_type": "code",
      "source": [
        "s1=\"hello burhan #$12\".upper()\n",
        "print(s1)"
      ],
      "metadata": {
        "colab": {
          "base_uri": "https://localhost:8080/"
        },
        "id": "3tN3pZTLDaBm",
        "outputId": "a915a3ee-4417-4812-9509-b796e61024f9"
      },
      "execution_count": null,
      "outputs": [
        {
          "output_type": "stream",
          "name": "stdout",
          "text": [
            "HELLO BURHAN #$12\n"
          ]
        }
      ]
    },
    {
      "cell_type": "markdown",
      "source": [
        "#47-zfill()\n",
        "The method zfill() method adds zeros (0) at the begging of the string until it reaches the specified length\n",
        "- if the value of the len parameter is less than the length of the string no filll id done"
      ],
      "metadata": {
        "id": "AH9PR8YjDrHE"
      }
    },
    {
      "cell_type": "code",
      "source": [
        "s1=\"60\".zfill(5)\n",
        "print(s1)"
      ],
      "metadata": {
        "colab": {
          "base_uri": "https://localhost:8080/"
        },
        "id": "UCbsRZOGEEGg",
        "outputId": "5d061646-a1e6-4c44-dfa2-91323aa341f3"
      },
      "execution_count": null,
      "outputs": [
        {
          "output_type": "stream",
          "name": "stdout",
          "text": [
            "00060\n"
          ]
        }
      ]
    },
    {
      "cell_type": "code",
      "source": [
        "a = \"hello\"\n",
        "b = \"welcome to the jungle\"\n",
        "c = \"10.000\"\n",
        "\n",
        "print(a.zfill(10))\n",
        "print(b.zfill(10))\n",
        "print(c.zfill(10))"
      ],
      "metadata": {
        "id": "0zWINmJMEOEL",
        "outputId": "5dbc30d8-ad97-4990-8c17-aa9d87f10dbf",
        "colab": {
          "base_uri": "https://localhost:8080/"
        }
      },
      "execution_count": null,
      "outputs": [
        {
          "output_type": "stream",
          "name": "stdout",
          "text": [
            "00000hello\n",
            "welcome to the jungle\n",
            "000010.000\n"
          ]
        }
      ]
    }
  ]
}