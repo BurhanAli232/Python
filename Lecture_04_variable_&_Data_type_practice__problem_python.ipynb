{
  "nbformat": 4,
  "nbformat_minor": 0,
  "metadata": {
    "colab": {
      "provenance": [],
      "authorship_tag": "ABX9TyPpRhL8KsudksedVg5m4yQL",
      "include_colab_link": true
    },
    "kernelspec": {
      "name": "python3",
      "display_name": "Python 3"
    },
    "language_info": {
      "name": "python"
    }
  },
  "cells": [
    {
      "cell_type": "markdown",
      "metadata": {
        "id": "view-in-github",
        "colab_type": "text"
      },
      "source": [
        "<a href=\"https://colab.research.google.com/github/BurhanAli232/Python_Afwera/blob/main/Lecture_04_variable_%26_Data_type_practice__problem_python.ipynb\" target=\"_parent\"><img src=\"https://colab.research.google.com/assets/colab-badge.svg\" alt=\"Open In Colab\"/></a>"
      ]
    },
    {
      "cell_type": "markdown",
      "source": [
        "# Section 1:int, float, str, bool"
      ],
      "metadata": {
        "id": "jkdo6WcKqcbn"
      }
    },
    {
      "cell_type": "markdown",
      "source": [
        "#### 1-Add two number"
      ],
      "metadata": {
        "id": "vST-HvSZqxSL"
      }
    },
    {
      "cell_type": "code",
      "source": [
        "# in this problem i use just integer number\n",
        "a=7\n",
        "b=8\n",
        "c=a+b\n",
        "print(c)"
      ],
      "metadata": {
        "colab": {
          "base_uri": "https://localhost:8080/"
        },
        "id": "GIyyW-tnqt9n",
        "outputId": "e4a164b3-c9dc-4114-df85-7e2c5fb8cf41"
      },
      "execution_count": null,
      "outputs": [
        {
          "output_type": "stream",
          "name": "stdout",
          "text": [
            "15\n"
          ]
        }
      ]
    },
    {
      "cell_type": "code",
      "source": [
        "# in this i take two input from user and after addtion and display the output\n",
        "first_number=int(input(\"Enter first number?\"))\n",
        "second_number=int(input(\"Enter second number ?\"))\n",
        "sum=first_number+second_number\n",
        "print(\"The sum of two number is\",sum)"
      ],
      "metadata": {
        "colab": {
          "base_uri": "https://localhost:8080/"
        },
        "id": "VpCb5ewnriD9",
        "outputId": "d9023903-e53f-496b-d11f-b05c8d5be523"
      },
      "execution_count": null,
      "outputs": [
        {
          "output_type": "stream",
          "name": "stdout",
          "text": [
            "Enter first number?3\n",
            "Enter second number ?3\n",
            "The sum of two number is 6\n"
          ]
        }
      ]
    },
    {
      "cell_type": "code",
      "source": [
        "# now i take one interger and one float number\n",
        "first_number=int(input(\"Enter first number?\"))\n",
        "second_number=7.99\n",
        "sum=first_number+second_number\n",
        "print(\"This is the sum of your integer and float\",sum)"
      ],
      "metadata": {
        "colab": {
          "base_uri": "https://localhost:8080/"
        },
        "id": "yRT1pWV-vaan",
        "outputId": "4cc107e6-af0d-4a85-d840-3bb666e13739"
      },
      "execution_count": null,
      "outputs": [
        {
          "output_type": "stream",
          "name": "stdout",
          "text": [
            "Enter first number?3\n",
            "This is the sum of your integer and float 10.99\n"
          ]
        }
      ]
    },
    {
      "cell_type": "code",
      "source": [
        "# now i take both input as a float from user\\\n",
        "first_number=float(input(\"Enter first number\"))\n",
        "second_number=float(input(\"Enter second number\"))\n",
        "sum=first_number+second_number\n",
        "print(\"The sum of two float number\",sum)"
      ],
      "metadata": {
        "colab": {
          "base_uri": "https://localhost:8080/"
        },
        "id": "L7mlLPcPwLxL",
        "outputId": "18002cde-b9cb-4e37-bf75-a9fb3534d41b"
      },
      "execution_count": null,
      "outputs": [
        {
          "output_type": "stream",
          "name": "stdout",
          "text": [
            "Enter first number2\n",
            "Enter second number2\n",
            "The sum of two float number 4.0\n"
          ]
        }
      ]
    },
    {
      "cell_type": "markdown",
      "source": [
        "#### 2-Multiply two number"
      ],
      "metadata": {
        "id": "vhiMQDcargWw"
      }
    },
    {
      "cell_type": "code",
      "source": [
        "# The first step is to multiple the float number and output is 10.0\n",
        "first_number=2.00\n",
        "second_number=5.00\n",
        "multiply=first_number*second_number\n",
        "print(\"The multiple of two number is\",multiply)"
      ],
      "metadata": {
        "colab": {
          "base_uri": "https://localhost:8080/"
        },
        "id": "PM7EWnPuxTzQ",
        "outputId": "48473238-e306-4127-a711-b109788d3282"
      },
      "execution_count": null,
      "outputs": [
        {
          "output_type": "stream",
          "name": "stdout",
          "text": [
            "The multiple of two number is 10.0\n"
          ]
        }
      ]
    },
    {
      "cell_type": "code",
      "source": [
        "# now i want to take some random number\n",
        "first_number=float(input(\"Enter first number\"))\n",
        "second_number=float(input(\"enter second number\"))\n",
        "multiply=first_number*second_number\n",
        "print(\"This is your output of multiplication\",multiply)"
      ],
      "metadata": {
        "colab": {
          "base_uri": "https://localhost:8080/"
        },
        "id": "Zj4Xg45dzdsI",
        "outputId": "fc2c52f4-5b58-41ac-d399-617d3798a105"
      },
      "execution_count": null,
      "outputs": [
        {
          "output_type": "stream",
          "name": "stdout",
          "text": [
            "Enter first number4\n",
            "enter second number3\n",
            "This is your output of multiplication 12.0\n"
          ]
        }
      ]
    },
    {
      "cell_type": "markdown",
      "source": [
        "#### 3-String concatination"
      ],
      "metadata": {
        "id": "hg7lLtIu4ro9"
      }
    },
    {
      "cell_type": "code",
      "source": [
        "#first my task is to display the python Rocks\n",
        "#first my task is to display the python Rocks\n",
        "string_one=\"python\"\n",
        "string_two=\"Rocks\"\n",
        "concatination=string_one+\" \"+string_two\n",
        "print(concatination)\n",
        "\n"
      ],
      "metadata": {
        "colab": {
          "base_uri": "https://localhost:8080/"
        },
        "id": "RNRUKLg0452C",
        "outputId": "45a395ef-48a5-4de4-c2e2-b3c56c1b0dcc"
      },
      "execution_count": null,
      "outputs": [
        {
          "output_type": "stream",
          "name": "stdout",
          "text": [
            "python Rocks\n"
          ]
        }
      ]
    },
    {
      "cell_type": "code",
      "source": [
        "# now i take the string with real time input from user\n",
        "string_one=input(\"Enter the first string \")\n",
        "string_two=input(\"Entrt the second string \")\n",
        "concatination=string_one+\" \"+string_two\n",
        "print(\"Your concatination string\",concatination)"
      ],
      "metadata": {
        "colab": {
          "base_uri": "https://localhost:8080/"
        },
        "id": "30HLF2_C6vQg",
        "outputId": "b6472479-d360-4a87-aba4-d1cbc98db644"
      },
      "execution_count": null,
      "outputs": [
        {
          "output_type": "stream",
          "name": "stdout",
          "text": [
            "Enter the first string 2\n",
            "Entrt the second string 1\n",
            "Your concatination string 2 1\n"
          ]
        }
      ]
    },
    {
      "cell_type": "markdown",
      "source": [
        "#### 4-Convert Integer to String"
      ],
      "metadata": {
        "id": "RBtMLaY1m725"
      }
    },
    {
      "cell_type": "code",
      "source": [
        "# first we need to display the age: 21\n",
        "age=str(input(\"Enter your age \"))\n",
        "print(\"age:\",age)"
      ],
      "metadata": {
        "colab": {
          "base_uri": "https://localhost:8080/"
        },
        "id": "pbcQy3J-nAP0",
        "outputId": "64257d68-895c-4e35-c5b0-c177e703423b"
      },
      "execution_count": null,
      "outputs": [
        {
          "output_type": "stream",
          "name": "stdout",
          "text": [
            "Enter your age 21\n",
            "age: 21\n"
          ]
        }
      ]
    },
    {
      "cell_type": "code",
      "source": [
        "# now we take input from user as a integer\n",
        "age=int(input(\"Enter you age\"))\n",
        "age2=str(\"age\")# no need to type str\n",
        "print(age2,age)"
      ],
      "metadata": {
        "colab": {
          "base_uri": "https://localhost:8080/"
        },
        "id": "OW1SugmVnzNx",
        "outputId": "c0fb1f25-73a2-49f7-9078-be4dbd25c14b"
      },
      "execution_count": null,
      "outputs": [
        {
          "output_type": "stream",
          "name": "stdout",
          "text": [
            "Enter you age21\n",
            "age 21\n"
          ]
        }
      ]
    },
    {
      "cell_type": "code",
      "source": [
        "# i take the input name and age from user and display\n",
        "name=input(str(\"Enter you name \"))\n",
        "age=int(input(\"Enter your age \"))\n",
        "print(f\"You name is {name} and your age is {age}\")"
      ],
      "metadata": {
        "colab": {
          "base_uri": "https://localhost:8080/"
        },
        "id": "pdQNrCd6xKqi",
        "outputId": "da1ba919-6f2a-4089-82a5-e1dc7d66a9a0"
      },
      "execution_count": null,
      "outputs": [
        {
          "output_type": "stream",
          "name": "stdout",
          "text": [
            "Enter you name Burhan\n",
            "Enter your age 21\n",
            "You name is Burhan and your age is 21\n"
          ]
        }
      ]
    },
    {
      "cell_type": "markdown",
      "source": [
        "#### 5-Convert String to Integer"
      ],
      "metadata": {
        "id": "ICNJpfPSzBLN"
      }
    },
    {
      "cell_type": "code",
      "source": [
        "input_string=str(input(\"Enter the string in digit? \"))\n",
        "print(type(input_string))\n",
        "input_int=int(input_string)\n",
        "print(type(input_int))\n",
        "print(f\"Your output is {input_int}\")"
      ],
      "metadata": {
        "colab": {
          "base_uri": "https://localhost:8080/"
        },
        "id": "RmXRN6ZizDbm",
        "outputId": "92a50e7e-9772-4c9d-a23d-c264ecbf23db"
      },
      "execution_count": null,
      "outputs": [
        {
          "output_type": "stream",
          "name": "stdout",
          "text": [
            "Enter the string in digit? 12\n",
            "<class 'str'>\n",
            "<class 'int'>\n",
            "Your output is 12\n"
          ]
        }
      ]
    },
    {
      "cell_type": "code",
      "source": [
        "# i take float no  and display int as a output\n",
        "number=float(input(\"Enter any float digit \"))\n",
        "number_int=int(number)\n",
        "print(f\"You number is {number_int}\")\n",
        "print(type(number))\n",
        "print(type(number_int))"
      ],
      "metadata": {
        "colab": {
          "base_uri": "https://localhost:8080/"
        },
        "id": "Ujqbq7ah0llx",
        "outputId": "faeecd94-4877-4651-daa8-5120f94e1c0d"
      },
      "execution_count": null,
      "outputs": [
        {
          "output_type": "stream",
          "name": "stdout",
          "text": [
            "Enter any float digit 2.2\n",
            "You number is 2\n",
            "<class 'float'>\n",
            "<class 'int'>\n"
          ]
        }
      ]
    },
    {
      "cell_type": "markdown",
      "source": [
        "#### 6-Check variable type"
      ],
      "metadata": {
        "id": "xTdmMJ5M23Mr"
      }
    },
    {
      "cell_type": "code",
      "source": [
        "# my task is to declare the bool variable and display the output\n",
        "bool_variable=True\n",
        "print(type(bool_variable))"
      ],
      "metadata": {
        "colab": {
          "base_uri": "https://localhost:8080/"
        },
        "id": "NwLS7xFM29Ng",
        "outputId": "bef1e854-48cd-42c6-eb5d-4e29e5421fd7"
      },
      "execution_count": null,
      "outputs": [
        {
          "output_type": "stream",
          "name": "stdout",
          "text": [
            "<class 'bool'>\n"
          ]
        }
      ]
    },
    {
      "cell_type": "code",
      "source": [
        "# now i want to take the int,str,float and bool from user and print datatype\n",
        "int_variable=int(input(\"Enter the integer variable\"))\n",
        "float_variable=float(input(\"Enter the float variable\"))\n",
        "bool_variable=bool(input(\"Enter the bool variable\"))\n",
        "string_variable=str(input(\"Enter the string variable\"))\n",
        "print(f\"your output is {int_variable} and datatype is {type(int_variable)}\")\n",
        "print(f\"your output is {float_variable} and datatype is {type(float_variable)}\")\n",
        "print(f\"your output is {bool_variable} and datatype is {type(bool_variable)}\")\n",
        "print(f\"your output is {string_variable} and datatype is {string_variable}\")"
      ],
      "metadata": {
        "colab": {
          "base_uri": "https://localhost:8080/"
        },
        "id": "vkZDygHs3b1g",
        "outputId": "d867186e-f7e2-49ce-bf24-9b2f017903cc"
      },
      "execution_count": null,
      "outputs": [
        {
          "output_type": "stream",
          "name": "stdout",
          "text": [
            "Enter the integer variable21\n",
            "Enter the float variable2.2\n",
            "Enter the bool variable1\n",
            "Enter the string variableji\n",
            "your output is 21 and datatype is <class 'int'>\n",
            "your output is 2.2 and datatype is <class 'float'>\n",
            "your output is True and datatype is <class 'bool'>\n",
            "your output is ji and datatype is ji\n"
          ]
        }
      ]
    },
    {
      "cell_type": "markdown",
      "source": [
        "#### 7-Area of circle"
      ],
      "metadata": {
        "id": "lECZdiCPE0WZ"
      }
    },
    {
      "cell_type": "code",
      "source": [
        "# my task is take input as a 3 and pi and find radius\n",
        "area_circle=3\n",
        "pi=3.1415\n",
        "radius=area_circle*area_circle*pi\n",
        "print(f\"Your radius is {radius}\")"
      ],
      "metadata": {
        "colab": {
          "base_uri": "https://localhost:8080/"
        },
        "id": "FTyXf4QAE8em",
        "outputId": "54de111d-4358-4a12-8bb3-5a4301022cb5"
      },
      "execution_count": null,
      "outputs": [
        {
          "output_type": "stream",
          "name": "stdout",
          "text": [
            "Your radius is 28.273500000000002\n"
          ]
        }
      ]
    },
    {
      "cell_type": "code",
      "source": [
        "# Now i take the random value from user\n",
        "area_circle=float(input(\"Enter the area of circle\"))\n",
        "pi=float(input(\"Enter the value of pi\"))\n",
        "radius=pi*area_circle*area_circle\n",
        "print(f\"you radius is {radius}\")"
      ],
      "metadata": {
        "colab": {
          "base_uri": "https://localhost:8080/"
        },
        "id": "g_fe8qTNFoz-",
        "outputId": "e835c78d-95c4-4f41-fbee-34dc1faa300e"
      },
      "execution_count": null,
      "outputs": [
        {
          "output_type": "stream",
          "name": "stdout",
          "text": [
            "Enter the area of circle3\n",
            "Enter the value of pi3.14\n",
            "you radius is 28.259999999999998\n"
          ]
        }
      ]
    },
    {
      "cell_type": "markdown",
      "source": [
        "#### 8-Find the average of given number"
      ],
      "metadata": {
        "id": "KFvFQfmRK6V2"
      }
    },
    {
      "cell_type": "code",
      "source": [
        "first_number=10\n",
        "second_number=15\n",
        "third_number=20\n",
        "average=(first_number+second_number+third_number)/3\n",
        "print(f\"The average number is {average}\")"
      ],
      "metadata": {
        "colab": {
          "base_uri": "https://localhost:8080/"
        },
        "id": "2qhOSHaULIZQ",
        "outputId": "2aaf1a76-c4e1-40a3-edd4-9a12f4678874"
      },
      "execution_count": null,
      "outputs": [
        {
          "output_type": "stream",
          "name": "stdout",
          "text": [
            "The average number is 15.0\n"
          ]
        }
      ]
    },
    {
      "cell_type": "code",
      "source": [
        "# take random 4 number from user and check average\n",
        "number1=int(input(\"Enter the first digit\"))\n",
        "number2=int(input(\"Enter the second digit\"))\n",
        "number3=int(input(\"Enter the third digit\"))\n",
        "number4=int(input(\"Enter the fourth digit\"))\n",
        "average=(number1+number2+number3+number4)/4\n",
        "print(f\"The average is {average}\")"
      ],
      "metadata": {
        "colab": {
          "base_uri": "https://localhost:8080/"
        },
        "id": "v1CDxPiPLjBa",
        "outputId": "98307343-7536-4dd3-b3c8-a1813b11c492"
      },
      "execution_count": null,
      "outputs": [
        {
          "output_type": "stream",
          "name": "stdout",
          "text": [
            "Enter the first digit2\n",
            "Enter the second digit3\n",
            "Enter the third digit4\n",
            "Enter the fourth digit5\n",
            "The average is 3.5\n"
          ]
        }
      ]
    },
    {
      "cell_type": "markdown",
      "source": [
        "#### 9-Boolean comparison"
      ],
      "metadata": {
        "id": "ZhGCM5BoVbqT"
      }
    },
    {
      "cell_type": "code",
      "source": [
        "first_number=4\n",
        "second_number=5\n",
        "bool1=first_number<second_number\n",
        "print(f\"Your output is {bool1}\")"
      ],
      "metadata": {
        "colab": {
          "base_uri": "https://localhost:8080/"
        },
        "id": "VqvlnxtkVnWJ",
        "outputId": "92132c99-54db-4f74-b3b4-9040d6e2e464"
      },
      "execution_count": null,
      "outputs": [
        {
          "output_type": "stream",
          "name": "stdout",
          "text": [
            "Your output is True\n"
          ]
        }
      ]
    },
    {
      "cell_type": "code",
      "source": [
        "# now i take the real time input and display output\n",
        "number1=int(input(\"Enter the first number\"))\n",
        "number2=int(input(\"Enter the second number\"))\n",
        "comparsion=number1<number2\n",
        "print(f\"Your output is {comparsion}\")"
      ],
      "metadata": {
        "colab": {
          "base_uri": "https://localhost:8080/"
        },
        "id": "nVGh7hMJWSNM",
        "outputId": "bfc84e18-1efa-4f41-9c76-91f70819686b"
      },
      "execution_count": null,
      "outputs": [
        {
          "output_type": "stream",
          "name": "stdout",
          "text": [
            "Enter the first number2\n",
            "Enter the second number3\n",
            "Your output is True\n"
          ]
        }
      ]
    },
    {
      "cell_type": "markdown",
      "source": [
        "#### 10-Great the user"
      ],
      "metadata": {
        "id": "t1XcslsMZGpt"
      }
    },
    {
      "cell_type": "code",
      "source": [
        "name_variable=str(input(\"Enter your name /\"))\n",
        "print(f\"welcome {name_variable}\")"
      ],
      "metadata": {
        "colab": {
          "base_uri": "https://localhost:8080/"
        },
        "id": "nbCi7BZUZMft",
        "outputId": "9eddedc3-5b7a-4095-bbf7-fd66bf99216d"
      },
      "execution_count": null,
      "outputs": [
        {
          "output_type": "stream",
          "name": "stdout",
          "text": [
            "Enter your name /Burhan\n",
            "welcome Burhan\n"
          ]
        }
      ]
    },
    {
      "cell_type": "markdown",
      "source": [
        "# Section 2:List, Tuple, Dicitionary, Sets"
      ],
      "metadata": {
        "id": "dfI1AY6mw6_z"
      }
    },
    {
      "cell_type": "markdown",
      "source": [
        "#### 11-create list and print"
      ],
      "metadata": {
        "id": "avnTD18jxlE_"
      }
    },
    {
      "cell_type": "code",
      "source": [
        "# the first aim to display this output\n",
        "# ['apple', 'banana', 'cherry']\n",
        "fruit_list=['apple','banana','cherry']\n",
        "print(fruit_list)"
      ],
      "metadata": {
        "colab": {
          "base_uri": "https://localhost:8080/"
        },
        "id": "ZTc_xDEyxwCG",
        "outputId": "0adb5d42-834c-4620-b7a1-38ec34db6404"
      },
      "execution_count": null,
      "outputs": [
        {
          "output_type": "stream",
          "name": "stdout",
          "text": [
            "['apple', 'banana', 'cherry']\n"
          ]
        }
      ]
    },
    {
      "cell_type": "markdown",
      "source": [
        "#### 12-Add items to list"
      ],
      "metadata": {
        "id": "aa_06XC9fMt6"
      }
    },
    {
      "cell_type": "code",
      "source": [
        "# the expected output is Output: ['apple', 'banana', 'mango']\n",
        "print(fruit_list)\n",
        "fruit_list.remove(\"cherry\")\n",
        "fruit_list.append(\"Mango\")\n",
        "print(fruit_list)"
      ],
      "metadata": {
        "colab": {
          "base_uri": "https://localhost:8080/"
        },
        "id": "vljPU1USfSRj",
        "outputId": "11a0bea7-f7be-4cc7-faa0-575dfbf85193"
      },
      "execution_count": null,
      "outputs": [
        {
          "output_type": "stream",
          "name": "stdout",
          "text": [
            "['apple', 'banana', 'cherry']\n",
            "['apple', 'banana', 'Mango']\n"
          ]
        }
      ]
    },
    {
      "cell_type": "markdown",
      "source": [
        "#### 13-Remove the items"
      ],
      "metadata": {
        "id": "YhtLVNDshQjW"
      }
    },
    {
      "cell_type": "code",
      "source": [
        "# the output is display the 1,2,4\n",
        "list_digit=[1,2,3,4]\n",
        "list_digit.remove(3)\n",
        "print(list_digit)"
      ],
      "metadata": {
        "id": "UQvtdB_EhUpV",
        "colab": {
          "base_uri": "https://localhost:8080/"
        },
        "outputId": "dd90a9a1-c9af-4ddc-b251-6629e952d3bf"
      },
      "execution_count": null,
      "outputs": [
        {
          "output_type": "stream",
          "name": "stdout",
          "text": [
            "[1, 2, 4]\n"
          ]
        }
      ]
    },
    {
      "cell_type": "markdown",
      "source": [
        "#### 14-Access list Element"
      ],
      "metadata": {
        "id": "-P7ydEz-klcs"
      }
    },
    {
      "cell_type": "code",
      "source": [
        "# my target is to print the output 3 color name and access the second color name\n",
        "color_list=['green','red','black']\n",
        "print(color_list[1])"
      ],
      "metadata": {
        "colab": {
          "base_uri": "https://localhost:8080/"
        },
        "id": "Q5wtMfTnnJR3",
        "outputId": "1739c711-8c32-4f4a-f28b-8aca6e5b9544"
      },
      "execution_count": null,
      "outputs": [
        {
          "output_type": "stream",
          "name": "stdout",
          "text": [
            "red\n"
          ]
        }
      ]
    },
    {
      "cell_type": "markdown",
      "source": [
        "#### 15-Tuple Access"
      ],
      "metadata": {
        "id": "MAsR0zwUn7ga"
      }
    },
    {
      "cell_type": "code",
      "source": [
        "# Create a tuple with three numbers and print the third element.\n",
        "tuple_no=(1,2,3)\n",
        "print(tuple_no[2])"
      ],
      "metadata": {
        "colab": {
          "base_uri": "https://localhost:8080/"
        },
        "id": "Lb2uENO5oKx1",
        "outputId": "2203d874-1cd2-4735-dd50-1e87a8aa5fb1"
      },
      "execution_count": null,
      "outputs": [
        {
          "output_type": "stream",
          "name": "stdout",
          "text": [
            "3\n"
          ]
        }
      ]
    },
    {
      "cell_type": "markdown",
      "source": [
        "#### 16-Dicitionary Access Value"
      ],
      "metadata": {
        "id": "K53oNEVeoeJv"
      }
    },
    {
      "cell_type": "code",
      "source": [
        "#Create a dictionary with a student's name and marks. Print the marks\n",
        "std_dict={'Burhan':90,'Ali':80}\n",
        "print(std_dict['Burhan'])"
      ],
      "metadata": {
        "colab": {
          "base_uri": "https://localhost:8080/"
        },
        "id": "wrHBYAzfomPK",
        "outputId": "f0f1dd5c-15a1-4f06-c9e6-53578b8d0680"
      },
      "execution_count": null,
      "outputs": [
        {
          "output_type": "stream",
          "name": "stdout",
          "text": [
            "90\n"
          ]
        }
      ]
    },
    {
      "cell_type": "markdown",
      "source": [
        "#### 17-update dictionary value"
      ],
      "metadata": {
        "id": "np7zuRmYppCV"
      }
    },
    {
      "cell_type": "code",
      "source": [
        "print(std_dict)\n",
        "std_dict['Burhan']=95\n",
        "print(std_dict)"
      ],
      "metadata": {
        "colab": {
          "base_uri": "https://localhost:8080/"
        },
        "id": "dE4FBmDzpvHz",
        "outputId": "9937df6b-32b7-4d70-8fad-07c1be11c972"
      },
      "execution_count": null,
      "outputs": [
        {
          "output_type": "stream",
          "name": "stdout",
          "text": [
            "{'Burhan': 90, 'Ali': 80}\n",
            "{'Burhan': 95, 'Ali': 80}\n"
          ]
        }
      ]
    },
    {
      "cell_type": "markdown",
      "source": [
        "#### key of dicitionary"
      ],
      "metadata": {
        "id": "bKsK8hhixUyp"
      }
    },
    {
      "cell_type": "code",
      "source": [
        "#Create a dictionary and print its keys.\n",
        "print(std_dict)\n",
        "print(std_dict.keys())\n",
        "print(std_dict.values())"
      ],
      "metadata": {
        "colab": {
          "base_uri": "https://localhost:8080/"
        },
        "id": "k_vYkBxUxYOe",
        "outputId": "87fd915d-dd08-4e2d-a7ec-c4730b09765e"
      },
      "execution_count": null,
      "outputs": [
        {
          "output_type": "stream",
          "name": "stdout",
          "text": [
            "{'Burhan': 95, 'Ali': 80}\n",
            "dict_keys(['Burhan', 'Ali'])\n",
            "dict_values([95, 80])\n"
          ]
        }
      ]
    },
    {
      "cell_type": "markdown",
      "source": [
        "#### 20-Remove dublicate using set"
      ],
      "metadata": {
        "id": "7LmsnnYnx32t"
      }
    },
    {
      "cell_type": "code",
      "source": [
        "#Create a set from a list with duplicate numbers and print it\n",
        "set_list={1,2,3,4,3,2,1,5,6,3,7,8,9,0,3,8,9,5}\n",
        "print(set_list)"
      ],
      "metadata": {
        "colab": {
          "base_uri": "https://localhost:8080/"
        },
        "id": "zu3sgGMpx_7Y",
        "outputId": "1c04cad4-b63b-4af6-884a-b359cc33a8ea"
      },
      "execution_count": null,
      "outputs": [
        {
          "output_type": "stream",
          "name": "stdout",
          "text": [
            "{0, 1, 2, 3, 4, 5, 6, 7, 8, 9}\n"
          ]
        }
      ]
    },
    {
      "cell_type": "markdown",
      "source": [
        "#### Add to set\n"
      ],
      "metadata": {
        "id": "fnJpa8iLyl6-"
      }
    },
    {
      "cell_type": "code",
      "source": [
        "print(set_list)\n",
        "set_list.add(10)\n",
        "print(set_list)"
      ],
      "metadata": {
        "colab": {
          "base_uri": "https://localhost:8080/"
        },
        "id": "xVRIu7sUyrDy",
        "outputId": "67598381-bf32-41cc-f9c9-2ec5ef6750df"
      },
      "execution_count": null,
      "outputs": [
        {
          "output_type": "stream",
          "name": "stdout",
          "text": [
            "{0, 1, 2, 3, 4, 5, 6, 7, 8, 9}\n",
            "{0, 1, 2, 3, 4, 5, 6, 7, 8, 9, 10}\n"
          ]
        }
      ]
    },
    {
      "cell_type": "markdown",
      "source": [
        "# Section 3:Inputs and Types casting"
      ],
      "metadata": {
        "id": "-3iBc92H0PTZ"
      }
    },
    {
      "cell_type": "code",
      "source": [
        "def fun():\n",
        "  print(\"Hello,Ali\")\n",
        "fun()"
      ],
      "metadata": {
        "id": "PPq2D8OI1F-r",
        "colab": {
          "base_uri": "https://localhost:8080/"
        },
        "outputId": "d47ebaeb-bfff-4517-935d-b957729ceb18"
      },
      "execution_count": null,
      "outputs": [
        {
          "output_type": "stream",
          "name": "stdout",
          "text": [
            "Hello,Ali\n"
          ]
        }
      ]
    },
    {
      "cell_type": "code",
      "source": [
        "def say_hello(name):\n",
        "    print(\"Hello,\", name)\n"
      ],
      "metadata": {
        "id": "0615tgXrb17e"
      },
      "execution_count": null,
      "outputs": []
    },
    {
      "cell_type": "code",
      "source": [
        "say_hello('Burhan')"
      ],
      "metadata": {
        "colab": {
          "base_uri": "https://localhost:8080/"
        },
        "id": "iWh-vgdHcZRe",
        "outputId": "fb9d06a4-36c5-4980-d7b1-8c8aa04b0be4"
      },
      "execution_count": null,
      "outputs": [
        {
          "output_type": "stream",
          "name": "stdout",
          "text": [
            "Hello, Burhan\n"
          ]
        }
      ]
    },
    {
      "cell_type": "code",
      "source": [
        "import os\n",
        "\n",
        "# File to store the tasks\n",
        "FILE_NAME = \"todo_list.txt\"\n",
        "\n",
        "# Function to read tasks from a file\n",
        "def load_tasks():\n",
        "    tasks = []\n",
        "    if os.path.exists(FILE_NAME):\n",
        "        try:\n",
        "            with open(FILE_NAME, 'r') as file:\n",
        "                lines = file.readlines()\n",
        "                for line in lines:\n",
        "                    task, status = line.strip().split('|')\n",
        "                    tasks.append({'task': task, 'status': status})\n",
        "        except Exception as e:\n",
        "            print(f\"Error loading tasks: {e}\")\n",
        "    return tasks\n",
        "\n",
        "# Function to save tasks to the file\n",
        "def save_tasks(tasks):\n",
        "    try:\n",
        "        with open(FILE_NAME, 'w') as file:\n",
        "            for task in tasks:\n",
        "                file.write(f\"{task['task']}|{task['status']}\\n\")\n",
        "    except Exception as e:\n",
        "        print(f\"Error saving tasks: {e}\")\n",
        "\n",
        "# Function to add a task\n",
        "def add_task(tasks, task):\n",
        "    tasks.append({'task': task, 'status': 'Not Done'})\n",
        "\n",
        "# Function to display the tasks\n",
        "def display_tasks(tasks):\n",
        "    if not tasks:\n",
        "        print(\"Your to-do list is empty!\")\n",
        "    else:\n",
        "        print(\"\\n--- To-Do List ---\")\n",
        "        for index, task in enumerate(tasks, 1):\n",
        "            status = task['status']\n",
        "            print(f\"{index}. {task['task']} [{status}]\")\n",
        "\n",
        "# Function to mark a task as done\n",
        "def mark_task_done(tasks, task_index):\n",
        "    try:\n",
        "        tasks[task_index - 1]['status'] = 'Done'\n",
        "        print(f\"Task '{tasks[task_index - 1]['task']}' marked as Done.\")\n",
        "    except IndexError:\n",
        "        print(\"Invalid task index. Please try again.\")\n",
        "\n",
        "# Function to remove a task\n",
        "def remove_task(tasks, task_index):\n",
        "    try:\n",
        "        task = tasks.pop(task_index - 1)\n",
        "        print(f\"Task '{task['task']}' removed.\")\n",
        "    except IndexError:\n",
        "        print(\"Invalid task index. Please try again.\")\n",
        "\n",
        "# Main menu of the app\n",
        "def main():\n",
        "    tasks = load_tasks()\n",
        "\n",
        "    while True:\n",
        "        print(\"\\n--- To-Do List App ---\")\n",
        "        print(\"1. Display tasks\")\n",
        "        print(\"2. Add a task\")\n",
        "        print(\"3. Mark task as done\")\n",
        "        print(\"4. Remove a task\")\n",
        "        print(\"5. Exit\")\n",
        "\n",
        "        choice = input(\"Choose an option: \")\n",
        "\n",
        "        if choice == '1':\n",
        "            display_tasks(tasks)\n",
        "\n",
        "        elif choice == '2':\n",
        "            task = input(\"Enter the task: \")\n",
        "            if task.strip():\n",
        "                add_task(tasks, task)\n",
        "                save_tasks(tasks)\n",
        "            else:\n",
        "                print(\"Invalid input! Task cannot be empty.\")\n",
        "\n",
        "        elif choice == '3':\n",
        "            try:\n",
        "                task_index = int(input(\"Enter the task number to mark as done: \"))\n",
        "                mark_task_done(tasks, task_index)\n",
        "                save_tasks(tasks)\n",
        "            except ValueError:\n",
        "                print(\"Invalid input! Please enter a number.\")\n",
        "\n",
        "        elif choice == '4':\n",
        "            try:\n",
        "                task_index = int(input(\"Enter the task number to remove: \"))\n",
        "                remove_task(tasks, task_index)\n",
        "                save_tasks(tasks)\n",
        "            except ValueError:\n",
        "                print(\"Invalid input! Please enter a number.\")\n",
        "\n",
        "        elif choice == '5':\n",
        "            print(\"Exiting the app...\")\n",
        "            break\n",
        "\n",
        "        else:\n",
        "            print(\"Invalid choice. Please try again.\")\n",
        "\n",
        "if __name__ == \"__main__\":\n",
        "    main()\n"
      ],
      "metadata": {
        "colab": {
          "base_uri": "https://localhost:8080/",
          "height": 649
        },
        "id": "D9iCdCxweqly",
        "outputId": "638b1361-b44d-4dea-9b16-47945ea7d9dc"
      },
      "execution_count": null,
      "outputs": [
        {
          "output_type": "stream",
          "name": "stdout",
          "text": [
            "\n",
            "--- To-Do List App ---\n",
            "1. Display tasks\n",
            "2. Add a task\n",
            "3. Mark task as done\n",
            "4. Remove a task\n",
            "5. Exit\n",
            "Choose an option: 4\n",
            "Enter the task number to remove: 5\n",
            "Invalid task index. Please try again.\n",
            "\n",
            "--- To-Do List App ---\n",
            "1. Display tasks\n",
            "2. Add a task\n",
            "3. Mark task as done\n",
            "4. Remove a task\n",
            "5. Exit\n"
          ]
        },
        {
          "output_type": "error",
          "ename": "KeyboardInterrupt",
          "evalue": "Interrupted by user",
          "traceback": [
            "\u001b[0;31m---------------------------------------------------------------------------\u001b[0m",
            "\u001b[0;31mKeyboardInterrupt\u001b[0m                         Traceback (most recent call last)",
            "\u001b[0;32m<ipython-input-10-bc6b2e564755>\u001b[0m in \u001b[0;36m<cell line: 0>\u001b[0;34m()\u001b[0m\n\u001b[1;32m    106\u001b[0m \u001b[0;34m\u001b[0m\u001b[0m\n\u001b[1;32m    107\u001b[0m \u001b[0;32mif\u001b[0m \u001b[0m__name__\u001b[0m \u001b[0;34m==\u001b[0m \u001b[0;34m\"__main__\"\u001b[0m\u001b[0;34m:\u001b[0m\u001b[0;34m\u001b[0m\u001b[0;34m\u001b[0m\u001b[0m\n\u001b[0;32m--> 108\u001b[0;31m     \u001b[0mmain\u001b[0m\u001b[0;34m(\u001b[0m\u001b[0;34m)\u001b[0m\u001b[0;34m\u001b[0m\u001b[0;34m\u001b[0m\u001b[0m\n\u001b[0m",
            "\u001b[0;32m<ipython-input-10-bc6b2e564755>\u001b[0m in \u001b[0;36mmain\u001b[0;34m()\u001b[0m\n\u001b[1;32m     69\u001b[0m         \u001b[0mprint\u001b[0m\u001b[0;34m(\u001b[0m\u001b[0;34m\"5. Exit\"\u001b[0m\u001b[0;34m)\u001b[0m\u001b[0;34m\u001b[0m\u001b[0;34m\u001b[0m\u001b[0m\n\u001b[1;32m     70\u001b[0m \u001b[0;34m\u001b[0m\u001b[0m\n\u001b[0;32m---> 71\u001b[0;31m         \u001b[0mchoice\u001b[0m \u001b[0;34m=\u001b[0m \u001b[0minput\u001b[0m\u001b[0;34m(\u001b[0m\u001b[0;34m\"Choose an option: \"\u001b[0m\u001b[0;34m)\u001b[0m\u001b[0;34m\u001b[0m\u001b[0;34m\u001b[0m\u001b[0m\n\u001b[0m\u001b[1;32m     72\u001b[0m \u001b[0;34m\u001b[0m\u001b[0m\n\u001b[1;32m     73\u001b[0m         \u001b[0;32mif\u001b[0m \u001b[0mchoice\u001b[0m \u001b[0;34m==\u001b[0m \u001b[0;34m'1'\u001b[0m\u001b[0;34m:\u001b[0m\u001b[0;34m\u001b[0m\u001b[0;34m\u001b[0m\u001b[0m\n",
            "\u001b[0;32m/usr/local/lib/python3.11/dist-packages/ipykernel/kernelbase.py\u001b[0m in \u001b[0;36mraw_input\u001b[0;34m(self, prompt)\u001b[0m\n\u001b[1;32m   1175\u001b[0m                 \u001b[0;34m\"raw_input was called, but this frontend does not support input requests.\"\u001b[0m\u001b[0;34m\u001b[0m\u001b[0;34m\u001b[0m\u001b[0m\n\u001b[1;32m   1176\u001b[0m             )\n\u001b[0;32m-> 1177\u001b[0;31m         return self._input_request(\n\u001b[0m\u001b[1;32m   1178\u001b[0m             \u001b[0mstr\u001b[0m\u001b[0;34m(\u001b[0m\u001b[0mprompt\u001b[0m\u001b[0;34m)\u001b[0m\u001b[0;34m,\u001b[0m\u001b[0;34m\u001b[0m\u001b[0;34m\u001b[0m\u001b[0m\n\u001b[1;32m   1179\u001b[0m             \u001b[0mself\u001b[0m\u001b[0;34m.\u001b[0m\u001b[0m_parent_ident\u001b[0m\u001b[0;34m[\u001b[0m\u001b[0;34m\"shell\"\u001b[0m\u001b[0;34m]\u001b[0m\u001b[0;34m,\u001b[0m\u001b[0;34m\u001b[0m\u001b[0;34m\u001b[0m\u001b[0m\n",
            "\u001b[0;32m/usr/local/lib/python3.11/dist-packages/ipykernel/kernelbase.py\u001b[0m in \u001b[0;36m_input_request\u001b[0;34m(self, prompt, ident, parent, password)\u001b[0m\n\u001b[1;32m   1217\u001b[0m             \u001b[0;32mexcept\u001b[0m \u001b[0mKeyboardInterrupt\u001b[0m\u001b[0;34m:\u001b[0m\u001b[0;34m\u001b[0m\u001b[0;34m\u001b[0m\u001b[0m\n\u001b[1;32m   1218\u001b[0m                 \u001b[0;31m# re-raise KeyboardInterrupt, to truncate traceback\u001b[0m\u001b[0;34m\u001b[0m\u001b[0;34m\u001b[0m\u001b[0m\n\u001b[0;32m-> 1219\u001b[0;31m                 \u001b[0;32mraise\u001b[0m \u001b[0mKeyboardInterrupt\u001b[0m\u001b[0;34m(\u001b[0m\u001b[0;34m\"Interrupted by user\"\u001b[0m\u001b[0;34m)\u001b[0m \u001b[0;32mfrom\u001b[0m \u001b[0;32mNone\u001b[0m\u001b[0;34m\u001b[0m\u001b[0;34m\u001b[0m\u001b[0m\n\u001b[0m\u001b[1;32m   1220\u001b[0m             \u001b[0;32mexcept\u001b[0m \u001b[0mException\u001b[0m\u001b[0;34m:\u001b[0m\u001b[0;34m\u001b[0m\u001b[0;34m\u001b[0m\u001b[0m\n\u001b[1;32m   1221\u001b[0m                 \u001b[0mself\u001b[0m\u001b[0;34m.\u001b[0m\u001b[0mlog\u001b[0m\u001b[0;34m.\u001b[0m\u001b[0mwarning\u001b[0m\u001b[0;34m(\u001b[0m\u001b[0;34m\"Invalid Message:\"\u001b[0m\u001b[0;34m,\u001b[0m \u001b[0mexc_info\u001b[0m\u001b[0;34m=\u001b[0m\u001b[0;32mTrue\u001b[0m\u001b[0;34m)\u001b[0m\u001b[0;34m\u001b[0m\u001b[0;34m\u001b[0m\u001b[0m\n",
            "\u001b[0;31mKeyboardInterrupt\u001b[0m: Interrupted by user"
          ]
        }
      ]
    }
  ]
}