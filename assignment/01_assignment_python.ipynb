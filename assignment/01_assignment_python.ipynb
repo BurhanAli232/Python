{
  "nbformat": 4,
  "nbformat_minor": 0,
  "metadata": {
    "colab": {
      "provenance": []
    },
    "kernelspec": {
      "name": "python3",
      "display_name": "Python 3"
    },
    "language_info": {
      "name": "python"
    }
  },
  "cells": [
    {
      "cell_type": "markdown",
      "source": [
        "### Name:Burhan Ali\n",
        "### Email:burhanali0145@gmail.com"
      ],
      "metadata": {
        "id": "z-Vzv2wjAOPO"
      }
    },
    {
      "cell_type": "markdown",
      "source": [
        "# Question_01"
      ],
      "metadata": {
        "id": "-eHf4FoC3hVZ"
      }
    },
    {
      "cell_type": "markdown",
      "source": [
        "## Write a python program that takes a string as input and prints out the following:\n",
        "  - The String in reverse order\n",
        "  - The number of vowels in the string"
      ],
      "metadata": {
        "id": "7-myKkKU3nT5"
      }
    },
    {
      "cell_type": "code",
      "source": [
        "# First we need to take input from user\n",
        "user_input=input(\"Please enter a string: \") # input function used to take input\n",
        "# we use the slice notation for reverse string [start:stop:step]\n",
        "reverse_order=user_input[::-1] # [::-1] it mean string print from at the end\n",
        "# define list for checking vowels\n",
        "vowels=['a','e','i','o','u','A','E','I','O','U']\n",
        "# check the each each charcter is vowel or not if yes then count '1'\n",
        "count=sum(1 for charcter in user_input if charcter in vowels)\n",
        "# print the reverse oder string\n",
        "print(f\"The string in reverse order is: {reverse_order}\")\n",
        "# Print tottal number of vowels\n",
        "print(f\"Number of vowels in the string is: {count}\")"
      ],
      "metadata": {
        "colab": {
          "base_uri": "https://localhost:8080/"
        },
        "id": "OPCOfcGU4Dsp",
        "outputId": "33e5f104-d74f-4d0f-83f2-d041b648ef27"
      },
      "execution_count": null,
      "outputs": [
        {
          "output_type": "stream",
          "name": "stdout",
          "text": [
            "Please enter a string: Burhan Ali\n",
            "The string in reverse order is: ilA nahruB\n",
            "Number of vowels in the string is: 4\n"
          ]
        }
      ]
    },
    {
      "cell_type": "markdown",
      "source": [
        "## Question_02"
      ],
      "metadata": {
        "id": "lA8ufeomeM6b"
      }
    },
    {
      "cell_type": "markdown",
      "source": [
        "## Create a program that:\n",
        "  - Takes an input number from the user\n",
        "  - Check whether the number is even or odd\n",
        "  - Print the result"
      ],
      "metadata": {
        "id": "Cgah3EPfeQb7"
      }
    },
    {
      "cell_type": "code",
      "source": [
        "# use to take the input from user\n",
        "user_input=input(\"Please enter the number: \")\n",
        "# isdigit() is to to check the number is integer or not\n",
        "if user_input.isdigit():\n",
        "  # give the condition and give modulus if result '0' number even & vice virsa\n",
        "  if int(user_input)%2==0:\n",
        "    # use to display the number is even\n",
        "    print(\"You'r number is even: \")\n",
        "    # else if all condition false then else run\n",
        "  else:\n",
        "    # use to display the number is odd\n",
        "    print(\"You'r number is odd: \")\n",
        "    # else is use when the number not integer\n",
        "else:\n",
        "  # display a please enter valid number\n",
        "  print(\"Please enter a valid number \")"
      ],
      "metadata": {
        "colab": {
          "base_uri": "https://localhost:8080/"
        },
        "id": "hS02isaoeuwI",
        "outputId": "f8f80fbe-f364-4d4a-8b7a-9044e602a390"
      },
      "execution_count": null,
      "outputs": [
        {
          "output_type": "stream",
          "name": "stdout",
          "text": [
            "Please enter the number: 9\n",
            "You'r number is odd: \n"
          ]
        }
      ]
    },
    {
      "cell_type": "markdown",
      "source": [
        "# Question_03"
      ],
      "metadata": {
        "id": "bDwY-83Riltg"
      }
    },
    {
      "cell_type": "markdown",
      "source": [
        "## Create a python program that:\n",
        "  - Take a list of integers as input\n",
        "  - Creates a new virtual environment called \"sortenv\"\n",
        "  - install a package (such as numpy) in the virtual environment.\n",
        "  - Sorts the list usinng a numpy method (numpy.sort())\n",
        "  - Print the sorted list."
      ],
      "metadata": {
        "id": "qSfmn1PnisIc"
      }
    },
    {
      "cell_type": "code",
      "source": [
        "# firstly i take the input from user\n",
        "user_input=list(map(int,input(\"Please enter the number using space \").split()))\n",
        "# second step is to create environment\n",
        "            # conda create -n sortenv python=3.10\n",
        "# third step is to install numpy\n",
        "            # pip install numpy | !pip install numpy\n",
        "import numpy as np\n",
        "# forth step is to sort the number\n",
        "sort_number=np.sort(user_input) # sort function is use to sort\n",
        "print(sort_number) # print the sort number"
      ],
      "metadata": {
        "colab": {
          "base_uri": "https://localhost:8080/"
        },
        "collapsed": true,
        "id": "l4_fNaQKiqPk",
        "outputId": "43dfa69d-699f-4fea-933f-8c1420a9f7de"
      },
      "execution_count": null,
      "outputs": [
        {
          "output_type": "stream",
          "name": "stdout",
          "text": [
            "Please enter the number using space 9 6 1 5\n",
            "[1 5 6 9]\n"
          ]
        }
      ]
    },
    {
      "cell_type": "markdown",
      "source": [
        "- For More information visit:https://github.com/BurhanAli232/Python_Afwera/blob/main/Lecture_03_virtual_Environment_in_python.ipynb"
      ],
      "metadata": {
        "id": "OGdXzGnqACeG"
      }
    }
  ]
}